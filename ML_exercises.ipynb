{
  "nbformat": 4,
  "nbformat_minor": 0,
  "metadata": {
    "colab": {
      "provenance": [],
      "authorship_tag": "ABX9TyO6IC8cNkPa7+3q8D0YK7bV",
      "include_colab_link": true
    },
    "kernelspec": {
      "name": "python3",
      "display_name": "Python 3"
    },
    "language_info": {
      "name": "python"
    }
  },
  "cells": [
    {
      "cell_type": "markdown",
      "metadata": {
        "id": "view-in-github",
        "colab_type": "text"
      },
      "source": [
        "<a href=\"https://colab.research.google.com/github/lohitha2004/netflix-clone/blob/main/ML_exercises.ipynb\" target=\"_parent\"><img src=\"https://colab.research.google.com/assets/colab-badge.svg\" alt=\"Open In Colab\"/></a>"
      ]
    },
    {
      "cell_type": "code",
      "execution_count": null,
      "metadata": {
        "id": "CLhiaXS2FaUP"
      },
      "outputs": [],
      "source": [
        "# EXERCISE-1\n",
        "import pandas as pd\n",
        "import numpy as np"
      ]
    },
    {
      "cell_type": "code",
      "source": [
        "data=pd.read_csv(\"/content/weather - weather.csv\")\n",
        "data"
      ],
      "metadata": {
        "id": "HxzDz54iK3Gp",
        "colab": {
          "base_uri": "https://localhost:8080/",
          "height": 175
        },
        "outputId": "06d64eac-9e8b-4042-bb7b-764fb59355a9"
      },
      "execution_count": null,
      "outputs": [
        {
          "output_type": "execute_result",
          "data": {
            "text/plain": [
              "      Time Weather Temperature Company Humidity    Wind Goes\n",
              "0  Morning   Sunny        Warm     Yes     Mild  Strong  Yes\n",
              "1  Evening   Rainy        Cold      No     Mild  Normal   No\n",
              "2  Morning   Sunny    Moderate     Yes   Normal  Normal  Yes\n",
              "3  Evening   Sunny        Cold     Yes     High  Strong  Yes"
            ],
            "text/html": [
              "\n",
              "  <div id=\"df-7272b3a9-df3d-4e21-b805-a67bec7ab61f\" class=\"colab-df-container\">\n",
              "    <div>\n",
              "<style scoped>\n",
              "    .dataframe tbody tr th:only-of-type {\n",
              "        vertical-align: middle;\n",
              "    }\n",
              "\n",
              "    .dataframe tbody tr th {\n",
              "        vertical-align: top;\n",
              "    }\n",
              "\n",
              "    .dataframe thead th {\n",
              "        text-align: right;\n",
              "    }\n",
              "</style>\n",
              "<table border=\"1\" class=\"dataframe\">\n",
              "  <thead>\n",
              "    <tr style=\"text-align: right;\">\n",
              "      <th></th>\n",
              "      <th>Time</th>\n",
              "      <th>Weather</th>\n",
              "      <th>Temperature</th>\n",
              "      <th>Company</th>\n",
              "      <th>Humidity</th>\n",
              "      <th>Wind</th>\n",
              "      <th>Goes</th>\n",
              "    </tr>\n",
              "  </thead>\n",
              "  <tbody>\n",
              "    <tr>\n",
              "      <th>0</th>\n",
              "      <td>Morning</td>\n",
              "      <td>Sunny</td>\n",
              "      <td>Warm</td>\n",
              "      <td>Yes</td>\n",
              "      <td>Mild</td>\n",
              "      <td>Strong</td>\n",
              "      <td>Yes</td>\n",
              "    </tr>\n",
              "    <tr>\n",
              "      <th>1</th>\n",
              "      <td>Evening</td>\n",
              "      <td>Rainy</td>\n",
              "      <td>Cold</td>\n",
              "      <td>No</td>\n",
              "      <td>Mild</td>\n",
              "      <td>Normal</td>\n",
              "      <td>No</td>\n",
              "    </tr>\n",
              "    <tr>\n",
              "      <th>2</th>\n",
              "      <td>Morning</td>\n",
              "      <td>Sunny</td>\n",
              "      <td>Moderate</td>\n",
              "      <td>Yes</td>\n",
              "      <td>Normal</td>\n",
              "      <td>Normal</td>\n",
              "      <td>Yes</td>\n",
              "    </tr>\n",
              "    <tr>\n",
              "      <th>3</th>\n",
              "      <td>Evening</td>\n",
              "      <td>Sunny</td>\n",
              "      <td>Cold</td>\n",
              "      <td>Yes</td>\n",
              "      <td>High</td>\n",
              "      <td>Strong</td>\n",
              "      <td>Yes</td>\n",
              "    </tr>\n",
              "  </tbody>\n",
              "</table>\n",
              "</div>\n",
              "    <div class=\"colab-df-buttons\">\n",
              "\n",
              "  <div class=\"colab-df-container\">\n",
              "    <button class=\"colab-df-convert\" onclick=\"convertToInteractive('df-7272b3a9-df3d-4e21-b805-a67bec7ab61f')\"\n",
              "            title=\"Convert this dataframe to an interactive table.\"\n",
              "            style=\"display:none;\">\n",
              "\n",
              "  <svg xmlns=\"http://www.w3.org/2000/svg\" height=\"24px\" viewBox=\"0 -960 960 960\">\n",
              "    <path d=\"M120-120v-720h720v720H120Zm60-500h600v-160H180v160Zm220 220h160v-160H400v160Zm0 220h160v-160H400v160ZM180-400h160v-160H180v160Zm440 0h160v-160H620v160ZM180-180h160v-160H180v160Zm440 0h160v-160H620v160Z\"/>\n",
              "  </svg>\n",
              "    </button>\n",
              "\n",
              "  <style>\n",
              "    .colab-df-container {\n",
              "      display:flex;\n",
              "      gap: 12px;\n",
              "    }\n",
              "\n",
              "    .colab-df-convert {\n",
              "      background-color: #E8F0FE;\n",
              "      border: none;\n",
              "      border-radius: 50%;\n",
              "      cursor: pointer;\n",
              "      display: none;\n",
              "      fill: #1967D2;\n",
              "      height: 32px;\n",
              "      padding: 0 0 0 0;\n",
              "      width: 32px;\n",
              "    }\n",
              "\n",
              "    .colab-df-convert:hover {\n",
              "      background-color: #E2EBFA;\n",
              "      box-shadow: 0px 1px 2px rgba(60, 64, 67, 0.3), 0px 1px 3px 1px rgba(60, 64, 67, 0.15);\n",
              "      fill: #174EA6;\n",
              "    }\n",
              "\n",
              "    .colab-df-buttons div {\n",
              "      margin-bottom: 4px;\n",
              "    }\n",
              "\n",
              "    [theme=dark] .colab-df-convert {\n",
              "      background-color: #3B4455;\n",
              "      fill: #D2E3FC;\n",
              "    }\n",
              "\n",
              "    [theme=dark] .colab-df-convert:hover {\n",
              "      background-color: #434B5C;\n",
              "      box-shadow: 0px 1px 3px 1px rgba(0, 0, 0, 0.15);\n",
              "      filter: drop-shadow(0px 1px 2px rgba(0, 0, 0, 0.3));\n",
              "      fill: #FFFFFF;\n",
              "    }\n",
              "  </style>\n",
              "\n",
              "    <script>\n",
              "      const buttonEl =\n",
              "        document.querySelector('#df-7272b3a9-df3d-4e21-b805-a67bec7ab61f button.colab-df-convert');\n",
              "      buttonEl.style.display =\n",
              "        google.colab.kernel.accessAllowed ? 'block' : 'none';\n",
              "\n",
              "      async function convertToInteractive(key) {\n",
              "        const element = document.querySelector('#df-7272b3a9-df3d-4e21-b805-a67bec7ab61f');\n",
              "        const dataTable =\n",
              "          await google.colab.kernel.invokeFunction('convertToInteractive',\n",
              "                                                    [key], {});\n",
              "        if (!dataTable) return;\n",
              "\n",
              "        const docLinkHtml = 'Like what you see? Visit the ' +\n",
              "          '<a target=\"_blank\" href=https://colab.research.google.com/notebooks/data_table.ipynb>data table notebook</a>'\n",
              "          + ' to learn more about interactive tables.';\n",
              "        element.innerHTML = '';\n",
              "        dataTable['output_type'] = 'display_data';\n",
              "        await google.colab.output.renderOutput(dataTable, element);\n",
              "        const docLink = document.createElement('div');\n",
              "        docLink.innerHTML = docLinkHtml;\n",
              "        element.appendChild(docLink);\n",
              "      }\n",
              "    </script>\n",
              "  </div>\n",
              "\n",
              "\n",
              "<div id=\"df-901dee3c-97a8-4582-b949-77021fffc5f4\">\n",
              "  <button class=\"colab-df-quickchart\" onclick=\"quickchart('df-901dee3c-97a8-4582-b949-77021fffc5f4')\"\n",
              "            title=\"Suggest charts\"\n",
              "            style=\"display:none;\">\n",
              "\n",
              "<svg xmlns=\"http://www.w3.org/2000/svg\" height=\"24px\"viewBox=\"0 0 24 24\"\n",
              "     width=\"24px\">\n",
              "    <g>\n",
              "        <path d=\"M19 3H5c-1.1 0-2 .9-2 2v14c0 1.1.9 2 2 2h14c1.1 0 2-.9 2-2V5c0-1.1-.9-2-2-2zM9 17H7v-7h2v7zm4 0h-2V7h2v10zm4 0h-2v-4h2v4z\"/>\n",
              "    </g>\n",
              "</svg>\n",
              "  </button>\n",
              "\n",
              "<style>\n",
              "  .colab-df-quickchart {\n",
              "      --bg-color: #E8F0FE;\n",
              "      --fill-color: #1967D2;\n",
              "      --hover-bg-color: #E2EBFA;\n",
              "      --hover-fill-color: #174EA6;\n",
              "      --disabled-fill-color: #AAA;\n",
              "      --disabled-bg-color: #DDD;\n",
              "  }\n",
              "\n",
              "  [theme=dark] .colab-df-quickchart {\n",
              "      --bg-color: #3B4455;\n",
              "      --fill-color: #D2E3FC;\n",
              "      --hover-bg-color: #434B5C;\n",
              "      --hover-fill-color: #FFFFFF;\n",
              "      --disabled-bg-color: #3B4455;\n",
              "      --disabled-fill-color: #666;\n",
              "  }\n",
              "\n",
              "  .colab-df-quickchart {\n",
              "    background-color: var(--bg-color);\n",
              "    border: none;\n",
              "    border-radius: 50%;\n",
              "    cursor: pointer;\n",
              "    display: none;\n",
              "    fill: var(--fill-color);\n",
              "    height: 32px;\n",
              "    padding: 0;\n",
              "    width: 32px;\n",
              "  }\n",
              "\n",
              "  .colab-df-quickchart:hover {\n",
              "    background-color: var(--hover-bg-color);\n",
              "    box-shadow: 0 1px 2px rgba(60, 64, 67, 0.3), 0 1px 3px 1px rgba(60, 64, 67, 0.15);\n",
              "    fill: var(--button-hover-fill-color);\n",
              "  }\n",
              "\n",
              "  .colab-df-quickchart-complete:disabled,\n",
              "  .colab-df-quickchart-complete:disabled:hover {\n",
              "    background-color: var(--disabled-bg-color);\n",
              "    fill: var(--disabled-fill-color);\n",
              "    box-shadow: none;\n",
              "  }\n",
              "\n",
              "  .colab-df-spinner {\n",
              "    border: 2px solid var(--fill-color);\n",
              "    border-color: transparent;\n",
              "    border-bottom-color: var(--fill-color);\n",
              "    animation:\n",
              "      spin 1s steps(1) infinite;\n",
              "  }\n",
              "\n",
              "  @keyframes spin {\n",
              "    0% {\n",
              "      border-color: transparent;\n",
              "      border-bottom-color: var(--fill-color);\n",
              "      border-left-color: var(--fill-color);\n",
              "    }\n",
              "    20% {\n",
              "      border-color: transparent;\n",
              "      border-left-color: var(--fill-color);\n",
              "      border-top-color: var(--fill-color);\n",
              "    }\n",
              "    30% {\n",
              "      border-color: transparent;\n",
              "      border-left-color: var(--fill-color);\n",
              "      border-top-color: var(--fill-color);\n",
              "      border-right-color: var(--fill-color);\n",
              "    }\n",
              "    40% {\n",
              "      border-color: transparent;\n",
              "      border-right-color: var(--fill-color);\n",
              "      border-top-color: var(--fill-color);\n",
              "    }\n",
              "    60% {\n",
              "      border-color: transparent;\n",
              "      border-right-color: var(--fill-color);\n",
              "    }\n",
              "    80% {\n",
              "      border-color: transparent;\n",
              "      border-right-color: var(--fill-color);\n",
              "      border-bottom-color: var(--fill-color);\n",
              "    }\n",
              "    90% {\n",
              "      border-color: transparent;\n",
              "      border-bottom-color: var(--fill-color);\n",
              "    }\n",
              "  }\n",
              "</style>\n",
              "\n",
              "  <script>\n",
              "    async function quickchart(key) {\n",
              "      const quickchartButtonEl =\n",
              "        document.querySelector('#' + key + ' button');\n",
              "      quickchartButtonEl.disabled = true;  // To prevent multiple clicks.\n",
              "      quickchartButtonEl.classList.add('colab-df-spinner');\n",
              "      try {\n",
              "        const charts = await google.colab.kernel.invokeFunction(\n",
              "            'suggestCharts', [key], {});\n",
              "      } catch (error) {\n",
              "        console.error('Error during call to suggestCharts:', error);\n",
              "      }\n",
              "      quickchartButtonEl.classList.remove('colab-df-spinner');\n",
              "      quickchartButtonEl.classList.add('colab-df-quickchart-complete');\n",
              "    }\n",
              "    (() => {\n",
              "      let quickchartButtonEl =\n",
              "        document.querySelector('#df-901dee3c-97a8-4582-b949-77021fffc5f4 button');\n",
              "      quickchartButtonEl.style.display =\n",
              "        google.colab.kernel.accessAllowed ? 'block' : 'none';\n",
              "    })();\n",
              "  </script>\n",
              "</div>\n",
              "\n",
              "  <div id=\"id_847d2d6b-d75a-4a3b-929b-f94966a299c3\">\n",
              "    <style>\n",
              "      .colab-df-generate {\n",
              "        background-color: #E8F0FE;\n",
              "        border: none;\n",
              "        border-radius: 50%;\n",
              "        cursor: pointer;\n",
              "        display: none;\n",
              "        fill: #1967D2;\n",
              "        height: 32px;\n",
              "        padding: 0 0 0 0;\n",
              "        width: 32px;\n",
              "      }\n",
              "\n",
              "      .colab-df-generate:hover {\n",
              "        background-color: #E2EBFA;\n",
              "        box-shadow: 0px 1px 2px rgba(60, 64, 67, 0.3), 0px 1px 3px 1px rgba(60, 64, 67, 0.15);\n",
              "        fill: #174EA6;\n",
              "      }\n",
              "\n",
              "      [theme=dark] .colab-df-generate {\n",
              "        background-color: #3B4455;\n",
              "        fill: #D2E3FC;\n",
              "      }\n",
              "\n",
              "      [theme=dark] .colab-df-generate:hover {\n",
              "        background-color: #434B5C;\n",
              "        box-shadow: 0px 1px 3px 1px rgba(0, 0, 0, 0.15);\n",
              "        filter: drop-shadow(0px 1px 2px rgba(0, 0, 0, 0.3));\n",
              "        fill: #FFFFFF;\n",
              "      }\n",
              "    </style>\n",
              "    <button class=\"colab-df-generate\" onclick=\"generateWithVariable('data')\"\n",
              "            title=\"Generate code using this dataframe.\"\n",
              "            style=\"display:none;\">\n",
              "\n",
              "  <svg xmlns=\"http://www.w3.org/2000/svg\" height=\"24px\"viewBox=\"0 0 24 24\"\n",
              "       width=\"24px\">\n",
              "    <path d=\"M7,19H8.4L18.45,9,17,7.55,7,17.6ZM5,21V16.75L18.45,3.32a2,2,0,0,1,2.83,0l1.4,1.43a1.91,1.91,0,0,1,.58,1.4,1.91,1.91,0,0,1-.58,1.4L9.25,21ZM18.45,9,17,7.55Zm-12,3A5.31,5.31,0,0,0,4.9,8.1,5.31,5.31,0,0,0,1,6.5,5.31,5.31,0,0,0,4.9,4.9,5.31,5.31,0,0,0,6.5,1,5.31,5.31,0,0,0,8.1,4.9,5.31,5.31,0,0,0,12,6.5,5.46,5.46,0,0,0,6.5,12Z\"/>\n",
              "  </svg>\n",
              "    </button>\n",
              "    <script>\n",
              "      (() => {\n",
              "      const buttonEl =\n",
              "        document.querySelector('#id_847d2d6b-d75a-4a3b-929b-f94966a299c3 button.colab-df-generate');\n",
              "      buttonEl.style.display =\n",
              "        google.colab.kernel.accessAllowed ? 'block' : 'none';\n",
              "\n",
              "      buttonEl.onclick = () => {\n",
              "        google.colab.notebook.generateWithVariable('data');\n",
              "      }\n",
              "      })();\n",
              "    </script>\n",
              "  </div>\n",
              "\n",
              "    </div>\n",
              "  </div>\n"
            ],
            "application/vnd.google.colaboratory.intrinsic+json": {
              "type": "dataframe",
              "variable_name": "data",
              "summary": "{\n  \"name\": \"data\",\n  \"rows\": 4,\n  \"fields\": [\n    {\n      \"column\": \"Time\",\n      \"properties\": {\n        \"dtype\": \"string\",\n        \"num_unique_values\": 2,\n        \"samples\": [\n          \"Evening\",\n          \"Morning\"\n        ],\n        \"semantic_type\": \"\",\n        \"description\": \"\"\n      }\n    },\n    {\n      \"column\": \"Weather\",\n      \"properties\": {\n        \"dtype\": \"string\",\n        \"num_unique_values\": 2,\n        \"samples\": [\n          \"Rainy\",\n          \"Sunny\"\n        ],\n        \"semantic_type\": \"\",\n        \"description\": \"\"\n      }\n    },\n    {\n      \"column\": \"Temperature\",\n      \"properties\": {\n        \"dtype\": \"string\",\n        \"num_unique_values\": 3,\n        \"samples\": [\n          \"Warm\",\n          \"Cold\"\n        ],\n        \"semantic_type\": \"\",\n        \"description\": \"\"\n      }\n    },\n    {\n      \"column\": \"Company\",\n      \"properties\": {\n        \"dtype\": \"string\",\n        \"num_unique_values\": 2,\n        \"samples\": [\n          \"No\",\n          \"Yes\"\n        ],\n        \"semantic_type\": \"\",\n        \"description\": \"\"\n      }\n    },\n    {\n      \"column\": \"Humidity\",\n      \"properties\": {\n        \"dtype\": \"string\",\n        \"num_unique_values\": 3,\n        \"samples\": [\n          \"Mild\",\n          \"Normal\"\n        ],\n        \"semantic_type\": \"\",\n        \"description\": \"\"\n      }\n    },\n    {\n      \"column\": \"Wind\",\n      \"properties\": {\n        \"dtype\": \"string\",\n        \"num_unique_values\": 2,\n        \"samples\": [\n          \"Normal\",\n          \"Strong\"\n        ],\n        \"semantic_type\": \"\",\n        \"description\": \"\"\n      }\n    },\n    {\n      \"column\": \"Goes\",\n      \"properties\": {\n        \"dtype\": \"string\",\n        \"num_unique_values\": 2,\n        \"samples\": [\n          \"No\",\n          \"Yes\"\n        ],\n        \"semantic_type\": \"\",\n        \"description\": \"\"\n      }\n    }\n  ]\n}"
            }
          },
          "metadata": {},
          "execution_count": 4
        }
      ]
    },
    {
      "cell_type": "code",
      "source": [
        "d=np.array(data)[:,:-1]\n",
        "print(\"\\n the attributes are:\",d)\n",
        "target=np.array(data)[:,-1]\n",
        "print(\"\\n the target is:\",target)"
      ],
      "metadata": {
        "colab": {
          "base_uri": "https://localhost:8080/"
        },
        "id": "_hTt2cNXPONz",
        "outputId": "904dc783-1383-4c59-b638-f0e616dbede9"
      },
      "execution_count": null,
      "outputs": [
        {
          "output_type": "stream",
          "name": "stdout",
          "text": [
            "\n",
            " the attributes are: [['Morning' 'Sunny' 'Warm' 'Yes' 'Mild' 'Strong']\n",
            " ['Evening' 'Rainy' 'Cold' 'No' 'Mild' 'Normal']\n",
            " ['Morning' 'Sunny' 'Moderate' 'Yes' 'Normal' 'Normal']\n",
            " ['Evening' 'Sunny' 'Cold' 'Yes' 'High' 'Strong']]\n",
            "\n",
            " the target is: ['Yes' 'No' 'Yes' 'Yes']\n"
          ]
        }
      ]
    },
    {
      "cell_type": "code",
      "source": [
        "def train(c,t):\n",
        "  for i,val in enumerate(t):\n",
        "    if val==\"Yes\":\n",
        "      specific_hypothesis=c[i].copy()\n",
        "    break\n",
        "  for i,val in enumerate(c):\n",
        "    if t[i]==\"Yes\":\n",
        "      for x in range(len(specific_hypothesis)):\n",
        "        if val[x]!=specific_hypothesis[x]:\n",
        "          specific_hypothesis[x]='?'\n",
        "        else:\n",
        "          pass\n",
        "  return specific_hypothesis\n",
        "print(\"\\n the final hypothesis is:\",train(d,target))"
      ],
      "metadata": {
        "id": "B7qfr6G2RvLj",
        "colab": {
          "base_uri": "https://localhost:8080/"
        },
        "outputId": "48976655-9ca6-42c9-f83d-cf83378f68d9"
      },
      "execution_count": null,
      "outputs": [
        {
          "output_type": "stream",
          "name": "stdout",
          "text": [
            "\n",
            " the final hypothesis is: ['?' 'Sunny' '?' 'Yes' '?' '?']\n"
          ]
        }
      ]
    },
    {
      "cell_type": "code",
      "source": [
        "# EXERCISE-2\n",
        "import numpy as np\n",
        "import pandas as pd"
      ],
      "metadata": {
        "id": "qlE7sTtimgpf"
      },
      "execution_count": null,
      "outputs": []
    },
    {
      "cell_type": "code",
      "source": [
        "data=pd.DataFrame(pd.read_csv(\"/content/sport - sport.csv\"))"
      ],
      "metadata": {
        "id": "wt_nRPBgQXul"
      },
      "execution_count": null,
      "outputs": []
    },
    {
      "cell_type": "code",
      "source": [
        "concepts=np.array(data.iloc[:,0:-1])\n",
        "print(concepts)\n",
        "target=np.array(data.iloc[:,-1])\n",
        "print(target)"
      ],
      "metadata": {
        "colab": {
          "base_uri": "https://localhost:8080/"
        },
        "id": "jl508EnzQa7k",
        "outputId": "eb0af4b7-a02a-4079-c434-62b4cad7e7f9"
      },
      "execution_count": null,
      "outputs": [
        {
          "output_type": "stream",
          "name": "stdout",
          "text": [
            "[['Sunny' 'Warm' 'Normal' 'Strong' 'Warm' 'Same']\n",
            " ['Sunny' 'Warm' 'High' 'Strong' 'Warm' 'Same']\n",
            " ['Rainy' 'Cold' 'High' 'Strong' 'Warm' 'Change']\n",
            " ['Sunny' 'Warm' 'High' 'Strong' 'Cool' 'Change']]\n",
            "['No' 'Yes' 'No' 'Yes']\n"
          ]
        }
      ]
    },
    {
      "cell_type": "code",
      "source": [
        "def learn(concepts,target):\n",
        "  specific_h=concepts[0].copy()\n",
        "  print(\"\\nInitialization of specific_h and general_h\")\n",
        "  print(specific_h)\n",
        "\n",
        "  general_h=[[\"?\" for i in range(len(specific_h))] for i in range(len(specific_h))]\n",
        "  print(general_h)\n",
        "\n",
        "  for i,h in enumerate(concepts):\n",
        "    if target[i]==\"Yes\":\n",
        "     for x in range(len(specific_h)):\n",
        "        if h[x]!=specific_h[x]:\n",
        "          specific_h[x]=\"?\"\n",
        "          general_h[x][x]=\"?\"\n",
        "\n",
        "    if target[i]==\"No\":\n",
        "     for x in range(len(specific_h)):\n",
        "        if h[x]!=specific_h[x]:\n",
        "          general_h[x][x]=specific_h[x]\n",
        "        else:\n",
        "          general_h[x][x]=\"?\"\n",
        "\n",
        "    print(\"\\n steps of candidate elimination algorithm\",i+1)\n",
        "    print(specific_h)\n",
        "    print(general_h)\n",
        "\n",
        "  indices=[i for i,val in enumerate(general_h) if val==[\"?\",\"?\",\"?\",\"?\",\"?\",\"?\"]]\n",
        "  for i in indices:\n",
        "   general_h.remove([\"?\",\"?\",\"?\",\"?\",\"?\",\"?\"])\n",
        "  return specific_h,general_h\n",
        "s_final,g_final=learn(concepts,target)\n",
        "print(\"\\n final specific_h:\",s_final,sep=\"\\n\")\n",
        "print(\"\\n final general_h:\",g_final,sep=\"\\n\")"
      ],
      "metadata": {
        "colab": {
          "base_uri": "https://localhost:8080/"
        },
        "id": "XWBZx-FtRCra",
        "outputId": "6b19a8e0-d9dd-4213-9e5b-e71146a1907d"
      },
      "execution_count": null,
      "outputs": [
        {
          "output_type": "stream",
          "name": "stdout",
          "text": [
            "\n",
            "Initialization of specific_h and general_h\n",
            "['Sunny' 'Warm' 'Normal' 'Strong' 'Warm' 'Same']\n",
            "[['?', '?', '?', '?', '?', '?'], ['?', '?', '?', '?', '?', '?'], ['?', '?', '?', '?', '?', '?'], ['?', '?', '?', '?', '?', '?'], ['?', '?', '?', '?', '?', '?'], ['?', '?', '?', '?', '?', '?']]\n",
            "\n",
            " steps of candidate elimination algorithm 1\n",
            "['Sunny' 'Warm' 'Normal' 'Strong' 'Warm' 'Same']\n",
            "[['?', '?', '?', '?', '?', '?'], ['?', '?', '?', '?', '?', '?'], ['?', '?', '?', '?', '?', '?'], ['?', '?', '?', '?', '?', '?'], ['?', '?', '?', '?', '?', '?'], ['?', '?', '?', '?', '?', '?']]\n",
            "\n",
            " steps of candidate elimination algorithm 2\n",
            "['Sunny' 'Warm' '?' 'Strong' 'Warm' 'Same']\n",
            "[['?', '?', '?', '?', '?', '?'], ['?', '?', '?', '?', '?', '?'], ['?', '?', '?', '?', '?', '?'], ['?', '?', '?', '?', '?', '?'], ['?', '?', '?', '?', '?', '?'], ['?', '?', '?', '?', '?', '?']]\n",
            "\n",
            " steps of candidate elimination algorithm 3\n",
            "['Sunny' 'Warm' '?' 'Strong' 'Warm' 'Same']\n",
            "[['Sunny', '?', '?', '?', '?', '?'], ['?', 'Warm', '?', '?', '?', '?'], ['?', '?', '?', '?', '?', '?'], ['?', '?', '?', '?', '?', '?'], ['?', '?', '?', '?', '?', '?'], ['?', '?', '?', '?', '?', 'Same']]\n",
            "\n",
            " steps of candidate elimination algorithm 4\n",
            "['Sunny' 'Warm' '?' 'Strong' '?' '?']\n",
            "[['Sunny', '?', '?', '?', '?', '?'], ['?', 'Warm', '?', '?', '?', '?'], ['?', '?', '?', '?', '?', '?'], ['?', '?', '?', '?', '?', '?'], ['?', '?', '?', '?', '?', '?'], ['?', '?', '?', '?', '?', '?']]\n",
            "\n",
            " final specific_h:\n",
            "['Sunny' 'Warm' '?' 'Strong' '?' '?']\n",
            "\n",
            " final general_h:\n",
            "[['Sunny', '?', '?', '?', '?', '?'], ['?', 'Warm', '?', '?', '?', '?']]\n"
          ]
        }
      ]
    },
    {
      "cell_type": "code",
      "execution_count": null,
      "metadata": {
        "id": "de2KRkTgZIB8",
        "colab": {
          "base_uri": "https://localhost:8080/",
          "height": 909
        },
        "outputId": "5969ee5d-9177-4ff3-d3dd-33ed3a79f96e"
      },
      "outputs": [
        {
          "output_type": "execute_result",
          "data": {
            "text/plain": [
              "[Text(0.5921052631578947, 0.9375, 'concavity_worst <= 0.142\\nentropy = 0.954\\nsamples = 398\\nvalue = [249, 149]'),\n",
              " Text(0.2894736842105263, 0.8125, 'perimeter_se <= 35.26\\nentropy = 0.402\\nsamples = 263\\nvalue = [242, 21]'),\n",
              " Text(0.10526315789473684, 0.6875, 'perimeter_worst <= 650.95\\nentropy = 0.149\\nsamples = 234\\nvalue = [229, 5]'),\n",
              " Text(0.05263157894736842, 0.5625, 'entropy = 0.0\\nsamples = 173\\nvalue = [173, 0]'),\n",
              " Text(0.15789473684210525, 0.5625, 'compactness_worst <= 0.207\\nentropy = 0.409\\nsamples = 61\\nvalue = [56, 5]'),\n",
              " Text(0.10526315789473684, 0.4375, 'entropy = 0.0\\nsamples = 37\\nvalue = [37, 0]'),\n",
              " Text(0.21052631578947367, 0.4375, 'compactness_se <= 0.018\\nentropy = 0.738\\nsamples = 24\\nvalue = [19, 5]'),\n",
              " Text(0.15789473684210525, 0.3125, 'entropy = 0.0\\nsamples = 3\\nvalue = [0, 3]'),\n",
              " Text(0.2631578947368421, 0.3125, 'radius_worst <= 32.595\\nentropy = 0.454\\nsamples = 21\\nvalue = [19, 2]'),\n",
              " Text(0.21052631578947367, 0.1875, 'entropy = 0.0\\nsamples = 18\\nvalue = [18, 0]'),\n",
              " Text(0.3157894736842105, 0.1875, 'area_mean <= 0.086\\nentropy = 0.918\\nsamples = 3\\nvalue = [1, 2]'),\n",
              " Text(0.2631578947368421, 0.0625, 'entropy = 0.0\\nsamples = 1\\nvalue = [1, 0]'),\n",
              " Text(0.3684210526315789, 0.0625, 'entropy = 0.0\\nsamples = 2\\nvalue = [0, 2]'),\n",
              " Text(0.47368421052631576, 0.6875, 'texture_worst <= 107.6\\nentropy = 0.992\\nsamples = 29\\nvalue = [13, 16]'),\n",
              " Text(0.3684210526315789, 0.5625, 'smoothness_worst <= 0.082\\nentropy = 0.619\\nsamples = 13\\nvalue = [11, 2]'),\n",
              " Text(0.3157894736842105, 0.4375, 'entropy = 0.0\\nsamples = 2\\nvalue = [0, 2]'),\n",
              " Text(0.42105263157894735, 0.4375, 'entropy = 0.0\\nsamples = 11\\nvalue = [11, 0]'),\n",
              " Text(0.5789473684210527, 0.5625, 'radius_worst <= 20.245\\nentropy = 0.544\\nsamples = 16\\nvalue = [2, 14]'),\n",
              " Text(0.5263157894736842, 0.4375, 'entropy = 0.0\\nsamples = 2\\nvalue = [2, 0]'),\n",
              " Text(0.631578947368421, 0.4375, 'entropy = 0.0\\nsamples = 14\\nvalue = [0, 14]'),\n",
              " Text(0.8947368421052632, 0.8125, 'texture_worst <= 112.8\\nentropy = 0.294\\nsamples = 135\\nvalue = [7, 128]'),\n",
              " Text(0.8421052631578947, 0.6875, 'area_worst <= 0.158\\nentropy = 0.871\\nsamples = 24\\nvalue = [7, 17]'),\n",
              " Text(0.7894736842105263, 0.5625, 'radius_worst <= 24.515\\nentropy = 0.98\\nsamples = 12\\nvalue = [7, 5]'),\n",
              " Text(0.7368421052631579, 0.4375, 'entropy = 0.0\\nsamples = 5\\nvalue = [5, 0]'),\n",
              " Text(0.8421052631578947, 0.4375, 'symmetry_mean <= 0.061\\nentropy = 0.863\\nsamples = 7\\nvalue = [2, 5]'),\n",
              " Text(0.7894736842105263, 0.3125, 'entropy = 0.0\\nsamples = 2\\nvalue = [2, 0]'),\n",
              " Text(0.8947368421052632, 0.3125, 'entropy = 0.0\\nsamples = 5\\nvalue = [0, 5]'),\n",
              " Text(0.8947368421052632, 0.5625, 'entropy = 0.0\\nsamples = 12\\nvalue = [0, 12]'),\n",
              " Text(0.9473684210526315, 0.6875, 'entropy = 0.0\\nsamples = 111\\nvalue = [0, 111]')]"
            ]
          },
          "metadata": {},
          "execution_count": 1
        },
        {
          "output_type": "display_data",
          "data": {
            "text/plain": [
              "<Figure size 640x480 with 1 Axes>"
            ],
            "image/png": "[encoded data removed]"
          },
          "metadata": {}
        }
      ],
      "source": [
        "# EXERCISE-3\n",
        "import numpy as np\n",
        "import pandas as pd\n",
        "from sklearn import tree\n",
        "data=pd.read_csv(\"/content/cancer - cancer.csv\")\n",
        "data.isnull().sum()\n",
        "x=data.iloc[:,1:].values\n",
        "y=data.iloc[:,0].values\n",
        "from sklearn.tree import DecisionTreeClassifier\n",
        "from sklearn.model_selection import train_test_split\n",
        "x_train,x_test,y_train,y_test=train_test_split(x,y,test_size=0.30,random_state=0)\n",
        "model=DecisionTreeClassifier(criterion=\"entropy\").fit(x_train,y_train)\n",
        "features=data.columns\n",
        "tree.plot_tree(model,feature_names=features)\n"
      ]
    },
    {
      "cell_type": "code",
      "execution_count": null,
      "metadata": {
        "colab": {
          "base_uri": "https://localhost:8080/",
          "height": 472
        },
        "id": "skH1C74bNfdh",
        "outputId": "67066137-4e1b-43d8-887f-e2c1b54c0da4"
      },
      "outputs": [
        {
          "output_type": "display_data",
          "data": {
            "text/plain": [
              "<Figure size 640x480 with 1 Axes>"
            ],
            "image/png": "[encoded data removed]"
          },
          "metadata": {}
        }
      ],
      "source": [
        "# EXERCISE-4(a,b,c)\n",
        "import pandas as pd\n",
        "import matplotlib.pyplot as plt\n",
        "dataset=pd.read_csv(\"/content/Salary_Data - Salary_Data.csv\")\n",
        "X=dataset.iloc[:,:-1].values\n",
        "Y=dataset.iloc[:,-1].values\n",
        "from sklearn.model_selection import train_test_split\n",
        "X_train,X_test,Y_train,Y_test=train_test_split(X,Y,test_size=0.2,random_state=0)\n",
        "from sklearn.linear_model import LinearRegression\n",
        "regressor=LinearRegression()\n",
        "regressor.fit(X_train,Y_train)\n",
        "Y_pred=regressor.predict(X_test)\n",
        "plt.scatter(X_train,Y_train,color=\"blue\")\n",
        "plt.plot(X_train,regressor.predict(X_train),color=\"blue\")\n",
        "plt.title(\"salary vs experience(Training set)\")\n",
        "plt.xlabel(\"years of experience\")\n",
        "plt.ylabel(\"salary\")\n",
        "plt.show()"
      ]
    },
    {
      "cell_type": "code",
      "source": [
        "plt.scatter(X_test,Y_test,color=\"red\")\n",
        "plt.plot(X_train,regressor.predict(X_train),color=\"blue\")\n",
        "plt.title(\"salary vs experience(Test set)\")\n",
        "plt.xlabel(\"years of experience\")\n",
        "plt.ylabel(\"salary\")\n",
        "plt.show()"
      ],
      "metadata": {
        "colab": {
          "base_uri": "https://localhost:8080/",
          "height": 472
        },
        "id": "UycAng5lTJMZ",
        "outputId": "97cd6814-748c-4843-b130-bf98e437ecef"
      },
      "execution_count": null,
      "outputs": [
        {
          "output_type": "display_data",
          "data": {
            "text/plain": [
              "<Figure size 640x480 with 1 Axes>"
            ],
            "image/png": "[encoded data removed]"
          },
          "metadata": {}
        }
      ]
    },
    {
      "cell_type": "code",
      "source": [
        "#Logistic regression\n",
        "import pandas as pd\n",
        "col_names=[\"Pregnanacies\",\"Glucose\",\"BloodPressure\",\"SkinThickness\",\"Insulin\",\"bmi\",\"diabetesPedigreeFunction\",\"Age\",\"label\"]\n",
        "pima=pd.read_csv(\"/content/diabetes - diabetes (1).csv\")\n",
        "pima.head()\n",
        "feature_cols=[\"Insulin\",\"bmi\",\"Age\",\"Glucose\",\"BloodPressure\",\"diabetesPedigreeFunction\"]\n",
        "X=pima[feature_cols]\n",
        "Y=pima.label"
      ],
      "metadata": {
        "id": "EaZoQ6nAWSE_"
      },
      "execution_count": null,
      "outputs": []
    },
    {
      "cell_type": "code",
      "source": [
        "from sklearn.model_selection import train_test_split\n",
        "X_train,X_test,Y_train,Y_test=train_test_split(X,Y,test_size=0.25,random_state=16)\n",
        "from sklearn.linear_model import LogisticRegression\n",
        "logreg=LogisticRegression(random_state=16)\n",
        "logreg.fit(X_train,Y_train)\n",
        "Y_pred=logreg.predict(X_test)\n",
        "from sklearn import metrics\n",
        "cnf_matrix=metrics.confusion_matrix(Y_test,Y_pred)\n",
        "print(cnf_matrix)\n",
        "from sklearn.metrics import classification_report\n",
        "target_names=[\"with diabetes\",\"without diabetes\"]\n",
        "print(classification_report(Y_test,Y_pred,target_names=target_names))\n"
      ],
      "metadata": {
        "colab": {
          "base_uri": "https://localhost:8080/"
        },
        "id": "y4veNOmQZEvQ",
        "outputId": "1f445205-ad45-49a9-efbb-52dd5dda60ef"
      },
      "execution_count": null,
      "outputs": [
        {
          "output_type": "stream",
          "name": "stdout",
          "text": [
            "[[111  14]\n",
            " [ 28  39]]\n",
            "                  precision    recall  f1-score   support\n",
            "\n",
            "   with diabetes       0.80      0.89      0.84       125\n",
            "without diabetes       0.74      0.58      0.65        67\n",
            "\n",
            "        accuracy                           0.78       192\n",
            "       macro avg       0.77      0.74      0.75       192\n",
            "    weighted avg       0.78      0.78      0.77       192\n",
            "\n"
          ]
        }
      ]
    },
    {
      "cell_type": "code",
      "execution_count": null,
      "metadata": {
        "id": "KEw13hmPF8Sc"
      },
      "outputs": [],
      "source": [
        "# EXERCISE-5(a,b,c)\n",
        "from sklearn.model_selection import train_test_split\n",
        "from sklearn.linear_model import LinearRegression\n",
        "from sklearn.datasets import fetch_california_housing\n",
        "from mlxtend.evaluate import bias_variance_decomp"
      ]
    },
    {
      "cell_type": "code",
      "source": [
        "data=fetch_california_housing()\n",
        "X=data.data\n",
        "Y=data.target\n",
        "X_train,X_test,Y_train,Y_test=train_test_split(X,Y,test_size=0.3)\n"
      ],
      "metadata": {
        "id": "sM6c-5IqG24t"
      },
      "execution_count": null,
      "outputs": []
    },
    {
      "cell_type": "code",
      "source": [
        "model=LinearRegression()\n",
        "avg_expected_loss,avg_bias,avg_var=bias_variance_decomp(model,X_train,Y_train,X_test,Y_test,loss=\"mse\",num_rounds=50,random_seed=20)\n",
        "print(\"average expected loss: %3f\" % avg_expected_loss)\n",
        "print(\"average bias: %3f\" %avg_bias)\n",
        "print(\"average variance: %3f\" %avg_var)"
      ],
      "metadata": {
        "colab": {
          "base_uri": "https://localhost:8080/"
        },
        "id": "_ENchbF3HzCU",
        "outputId": "218d1b68-0b3e-45a4-929f-912298bb17b5"
      },
      "execution_count": null,
      "outputs": [
        {
          "output_type": "stream",
          "name": "stdout",
          "text": [
            "average expected loss: 0.527549\n",
            "average bias: 0.525855\n",
            "average variance: 0.001695\n"
          ]
        }
      ]
    },
    {
      "cell_type": "code",
      "source": [
        "import pandas as pd\n",
        "data={'Country':['India','India','USA','USA','UK','Germany','India','Germany','USA','China','Japan'],\n",
        "      'Personality':['Sachin Tendulkar','Sania Mirza','Sarena Williams','Venus Williams','Morgan Freeman','Micheal Schumachar','Priyanka Chopra','Micheal Schumachar','Sarena Williams','Jack Ma','Sakamoto Ryoma']}\n",
        "df=pd.DataFrame(data,columns=['Country','Personality'])\n",
        "df.drop_duplicates(keep='first',inplace=True)\n",
        "print(df)\n"
      ],
      "metadata": {
        "colab": {
          "base_uri": "https://localhost:8080/"
        },
        "id": "eOcDl12RN100",
        "outputId": "11578c44-ee2f-482a-e412-a6cfb469f9eb"
      },
      "execution_count": null,
      "outputs": [
        {
          "output_type": "stream",
          "name": "stdout",
          "text": [
            "    Country         Personality\n",
            "0     India    Sachin Tendulkar\n",
            "1     India         Sania Mirza\n",
            "2       USA     Sarena Williams\n",
            "3       USA      Venus Williams\n",
            "4        UK      Morgan Freeman\n",
            "5   Germany  Micheal Schumachar\n",
            "6     India     Priyanka Chopra\n",
            "9     China             Jack Ma\n",
            "10    Japan      Sakamoto Ryoma\n"
          ]
        }
      ]
    },
    {
      "cell_type": "code",
      "source": [
        "from sklearn.datasets import load_breast_cancer\n",
        "import pandas as pd\n",
        "from sklearn.linear_model import LogisticRegression\n",
        "from sklearn.model_selection import KFold\n",
        "from sklearn.metrics import accuracy_score"
      ],
      "metadata": {
        "id": "9kd6iwcSQsDU"
      },
      "execution_count": null,
      "outputs": []
    },
    {
      "cell_type": "code",
      "source": [
        "data=load_breast_cancer(as_frame=True)\n",
        "df=data.frame\n",
        "X=df.iloc[:,:-1]\n",
        "Y=df.iloc[:,-1]"
      ],
      "metadata": {
        "id": "If8v8COrRb76"
      },
      "execution_count": null,
      "outputs": []
    },
    {
      "cell_type": "code",
      "source": [
        "k=3\n",
        "k_fold=KFold(n_splits=k,random_state=None)\n",
        "Lr=LogisticRegression(solver='liblinear')\n",
        "acc_scores=[]\n",
        "for training_index,testing_index in k_fold.split(X):\n",
        "  X_train,X_test=X.iloc[training_index],X.iloc[testing_index]\n",
        "  Y_train,Y_test=Y.iloc[training_index],Y.iloc[testing_index]\n",
        "  Lr.fit(X_train,Y_train)\n",
        "  Y_pred=Lr.predict(X_test)\n",
        "  acc=accuracy_score(Y_test,Y_pred)\n",
        "  acc_scores.append(acc)\n"
      ],
      "metadata": {
        "id": "xZfr4DxxRvik"
      },
      "execution_count": null,
      "outputs": []
    },
    {
      "cell_type": "code",
      "source": [
        "mean_acc_score=sum(acc_scores)/k"
      ],
      "metadata": {
        "id": "3eCSiZMMTCec"
      },
      "execution_count": null,
      "outputs": []
    },
    {
      "cell_type": "code",
      "source": [
        "print(\"accuracy score of each fold:\",acc_scores)\n",
        "print(\"mean accuracy score:\",mean_acc_score)"
      ],
      "metadata": {
        "colab": {
          "base_uri": "https://localhost:8080/"
        },
        "id": "pOy9lF-SVGML",
        "outputId": "7d6593b9-1fdd-4de5-9bea-bd4715c4e1f8"
      },
      "execution_count": null,
      "outputs": [
        {
          "output_type": "stream",
          "name": "stdout",
          "text": [
            "accuracy score of each fold: [0.9210526315789473, 0.9736842105263158, 0.9470899470899471]\n",
            "mean accuracy score: 0.9472755963984034\n"
          ]
        }
      ]
    },
    {
      "cell_type": "code",
      "source": [
        "# EXERCISE-6(a,b)\n",
        "import numpy as np\n",
        "from sklearn.preprocessing import LabelEncoder\n",
        "data=['apple','banana','banana','orange','kiwi','mango','apple']\n",
        "le=LabelEncoder()\n",
        "encoded_data=le.fit_transform(data)\n",
        "print(encoded_data)"
      ],
      "metadata": {
        "colab": {
          "base_uri": "https://localhost:8080/"
        },
        "id": "h6eLLP3v-gJ2",
        "outputId": "e1705174-5395-4640-e1e5-f6b8be6830ac"
      },
      "execution_count": null,
      "outputs": [
        {
          "output_type": "stream",
          "name": "stdout",
          "text": [
            "[0 1 1 4 2 3 0]\n"
          ]
        }
      ]
    },
    {
      "cell_type": "code",
      "source": [
        "import numpy as np\n",
        "import pandas as pd\n",
        "\n",
        "data=pd.read_csv('/content/empdata - empdata (1).csv')\n",
        "print(data.head())\n",
        "print(data['gender'].unique())\n",
        "print(data['remarks'].unique())\n",
        "print(data['gender'].value_counts())\n",
        "print(data['remarks'].value_counts())\n",
        "one_hot_encoded_data=pd.get_dummies(data,columns=['remarks','gender'])\n",
        "print(one_hot_encoded_data)"
      ],
      "metadata": {
        "colab": {
          "base_uri": "https://localhost:8080/"
        },
        "id": "ViiJvT_gBM0j",
        "outputId": "ec31045b-2b9b-465c-da00-1515d5e554a7"
      },
      "execution_count": null,
      "outputs": [
        {
          "output_type": "stream",
          "name": "stdout",
          "text": [
            "   emp_id  gender remarks\n",
            "0       1    male    good\n",
            "1       2  female   great\n",
            "2       3    male    good\n",
            "3       4    male    nice\n",
            "4       5  female    good\n",
            "['male' 'female']\n",
            "['good' 'great' 'nice']\n",
            "gender\n",
            "male      5\n",
            "female    3\n",
            "Name: count, dtype: int64\n",
            "remarks\n",
            "good     3\n",
            "nice     3\n",
            "great    2\n",
            "Name: count, dtype: int64\n",
            "   emp_id  remarks_good  remarks_great  remarks_nice  gender_female  \\\n",
            "0       1          True          False         False          False   \n",
            "1       2         False           True         False           True   \n",
            "2       3          True          False         False          False   \n",
            "3       4         False          False          True          False   \n",
            "4       5          True          False         False           True   \n",
            "5       6         False          False          True           True   \n",
            "6       7         False           True         False          False   \n",
            "7       8         False          False          True          False   \n",
            "\n",
            "   gender_male  \n",
            "0         True  \n",
            "1        False  \n",
            "2         True  \n",
            "3         True  \n",
            "4        False  \n",
            "5        False  \n",
            "6         True  \n",
            "7         True  \n"
          ]
        }
      ]
    },
    {
      "cell_type": "code",
      "source": [
        "# EXERCISE-7\n",
        "import numpy as np\n",
        "X = np.array(([2, 9], [1, 5], [3, 6]), dtype=float)\n",
        "y = np.array(([92], [86], [89]), dtype=float)\n",
        "X = X/np.amax(X,axis=0)\n",
        "y = y/100\n",
        "def sigmoid (x):\n",
        "   return 1/(1 + np.exp(-x))\n",
        "def derivatives_sigmoid(x):\n",
        "   return x * (1 - x)\n",
        "epoch=7000\n",
        "lr=0.1\n",
        "inputlayer_neurons = 2\n",
        "hiddenlayer_neurons = 3\n",
        "output_neurons = 1\n",
        "wh=np.random.uniform(size=(inputlayer_neurons,hiddenlayer_neurons))\n",
        "bh=np.random.uniform(size=(1,hiddenlayer_neurons))\n",
        "wout=np.random.uniform(size=(hiddenlayer_neurons,output_neurons))\n",
        "bout=np.random.uniform(size=(1,output_neurons))\n",
        "for i in range(epoch):\n",
        "    hinp1=np.dot(X,wh)\n",
        "hinp=hinp1 + bh\n",
        "hlayer_act = sigmoid(hinp)\n",
        "outinp1=np.dot(hlayer_act,wout)\n",
        "outinp= outinp1+ bout\n",
        "output = sigmoid(outinp)\n",
        "EO = y-output\n",
        "outgrad = derivatives_sigmoid(output)\n",
        "d_output = EO* outgrad\n",
        "EH = d_output.dot(wout.T)\n",
        "hiddengrad = derivatives_sigmoid(hlayer_act)\n",
        "d_hiddenlayer = EH * hiddengrad\n",
        "wout += hlayer_act.T.dot(d_output) *lr\n",
        "wh += X.T.dot(d_hiddenlayer) *lr\n",
        "print(\"Input: \\n\"+ str(X))\n",
        "print(\"Actual Output: \\n\" + str(y))\n",
        "print(\"Predicted Output: \\n\" ,output)"
      ],
      "metadata": {
        "colab": {
          "base_uri": "https://localhost:8080/"
        },
        "id": "LyMZ38xBnz5A",
        "outputId": "35128603-8295-4f07-fae9-d38b7d824ddf"
      },
      "execution_count": null,
      "outputs": [
        {
          "output_type": "stream",
          "name": "stdout",
          "text": [
            "Input: \n",
            "[[0.66666667 1.        ]\n",
            " [0.33333333 0.55555556]\n",
            " [1.         0.66666667]]\n",
            "Actual Output: \n",
            "[[0.92]\n",
            " [0.86]\n",
            " [0.89]]\n",
            "Predicted Output: \n",
            " [[0.8300815 ]\n",
            " [0.8161501 ]\n",
            " [0.82839726]]\n"
          ]
        }
      ]
    },
    {
      "cell_type": "code",
      "source": [
        "# EXERCISE-8\n",
        "import numpy as np\n",
        "import pandas as pd\n",
        "from sklearn.neighbors import KNeighborsClassifier\n",
        "from sklearn.model_selection import train_test_split\n",
        "from sklearn import metrics\n",
        "data=pd.read_csv(\"/content/iris - iris.csv\")\n",
        "data.head()\n",
        "X=data.iloc[:,:-1]\n",
        "Y=data.iloc[:,-1]\n",
        "print(X.head())\n",
        "Xtrain,Xtest,Ytrain,Ytest=train_test_split(X,Y,test_size=0.25,random_state=0)\n",
        "classifier=KNeighborsClassifier(n_neighbors=9).fit(Xtrain,Ytrain)\n",
        "ypred=classifier.predict(Xtest)\n",
        "i=0\n",
        "print(\"\\n---------------------------------------------------------------------------------------------------------------------\")\n",
        "print(\"%25s%25s%25s\"%('Orginal Label','Predicted Label','Correct/Wrong'))\n",
        "print(\"------------------------------------------------------------------------------------------------------------------------\")\n",
        "for i, label in enumerate(Ytest):\n",
        "    print('%25s%25s'%(label,ypred[i]),end=\"\")\n",
        "    if (label==ypred[i]):\n",
        "        print(\"%25s\"%('correct'))\n",
        "else:\n",
        " print('%25s'%('wrong'))\n",
        "i=i+1\n",
        "print(\"------------------------------------------------------------------------------------------------------------------------\")\n",
        "print(\"\\nconfusion_matrix:\\n\",metrics.confusion_matrix(Ytest,ypred))\n",
        "print(\"\\nclassification report:\\n\",metrics.classification_report(Ytest,ypred))\n",
        "print(\"\\naccuracy of the classifier:\\n\",metrics.accuracy_score(Ytest,ypred))\n"
      ],
      "metadata": {
        "colab": {
          "base_uri": "https://localhost:8080/"
        },
        "id": "tidvcBBfnz8d",
        "outputId": "a431df65-3b07-4355-bc42-f42da261a37f"
      },
      "execution_count": null,
      "outputs": [
        {
          "output_type": "stream",
          "name": "stdout",
          "text": [
            "   sepal_length  sepal_width  petal_length  petal_width\n",
            "0           5.1          3.5           1.4          0.2\n",
            "1           4.9          3.0           1.4          0.2\n",
            "2           4.7          3.2           1.3          0.2\n",
            "3           4.6          3.1           1.5          0.2\n",
            "4           5.0          3.6           1.4          0.2\n",
            "\n",
            "---------------------------------------------------------------------------------------------------------------------\n",
            "            Orginal Label          Predicted Label            Correct/Wrong\n",
            "-----------------------------------------------------------------------------------------------------------------------\n",
            "                virginica                virginica                  correct\n",
            "               versicolor               versicolor                  correct\n",
            "                   setosa                   setosa                  correct\n",
            "                virginica                virginica                  correct\n",
            "                   setosa                   setosa                  correct\n",
            "                virginica                virginica                  correct\n",
            "                   setosa                   setosa                  correct\n",
            "               versicolor               versicolor                  correct\n",
            "               versicolor               versicolor                  correct\n",
            "               versicolor               versicolor                  correct\n",
            "                virginica                virginica                  correct\n",
            "               versicolor               versicolor                  correct\n",
            "               versicolor               versicolor                  correct\n",
            "               versicolor               versicolor                  correct\n",
            "               versicolor               versicolor                  correct\n",
            "                   setosa                   setosa                  correct\n",
            "               versicolor               versicolor                  correct\n",
            "               versicolor               versicolor                  correct\n",
            "                   setosa                   setosa                  correct\n",
            "                   setosa                   setosa                  correct\n",
            "                virginica                virginica                  correct\n",
            "               versicolor               versicolor                  correct\n",
            "                   setosa                   setosa                  correct\n",
            "                   setosa                   setosa                  correct\n",
            "                virginica                virginica                  correct\n",
            "                   setosa                   setosa                  correct\n",
            "                   setosa                   setosa                  correct\n",
            "               versicolor               versicolor                  correct\n",
            "               versicolor               versicolor                  correct\n",
            "                   setosa                   setosa                  correct\n",
            "                virginica                virginica                  correct\n",
            "               versicolor               versicolor                  correct\n",
            "                   setosa                   setosa                  correct\n",
            "                virginica                virginica                  correct\n",
            "                virginica                virginica                  correct\n",
            "               versicolor               versicolor                  correct\n",
            "                   setosa                   setosa                  correct\n",
            "               versicolor                virginica                    wrong\n",
            "------------------------------------------------------------------------------------------------------------------------\n",
            "\n",
            "confusion_matrix:\n",
            " [[13  0  0]\n",
            " [ 0 15  1]\n",
            " [ 0  0  9]]\n",
            "\n",
            "classification report:\n",
            "               precision    recall  f1-score   support\n",
            "\n",
            "      setosa       1.00      1.00      1.00        13\n",
            "  versicolor       1.00      0.94      0.97        16\n",
            "   virginica       0.90      1.00      0.95         9\n",
            "\n",
            "    accuracy                           0.97        38\n",
            "   macro avg       0.97      0.98      0.97        38\n",
            "weighted avg       0.98      0.97      0.97        38\n",
            "\n",
            "\n",
            "accuracy of the classifier:\n",
            " 0.9736842105263158\n"
          ]
        }
      ]
    },
    {
      "cell_type": "code",
      "execution_count": null,
      "metadata": {
        "id": "_1dF4FQmrr4P"
      },
      "outputs": [],
      "source": [
        "# EXERCISE-9\n",
        "import pandas as pd\n",
        "import numpy as np\n",
        "import matplotlib.pyplot as plt\n",
        "%matplotlib inline"
      ]
    },
    {
      "cell_type": "code",
      "source": [
        "df=pd.read_csv(\"/content/tips - tips.csv\")\n",
        "features=np.array(df.total_bill)\n",
        "labels=np.array(df.tip)\n",
        "def kernel(data,point,xmat,k):\n",
        "  m,n=np.shape(xmat)\n",
        "  ws=np.mat(np.eye((m)))\n",
        "  for j in range(m):\n",
        "    diff=point-data[j]\n",
        "    ws[j,j]=np.exp(diff*diff.T/(-2.0*k**2))\n",
        "  return ws\n",
        "def local_weight(data,point,xmat,ymat,k):\n",
        "  wei=kernel(data,point,xmat,k)\n",
        "  return((data.T*(wei*data)).I*(data.T*(wei*ymat.T)))\n",
        "def local_weight_regression(xmat,ymat,k):\n",
        "  m,n=np.shape(xmat)\n",
        "  ypred=np.zeros(m)\n",
        "  for i in range(m):\n",
        "    ypred[i]=xmat[i]*local_weight(xmat,xmat[i],xmat,ymat,k)\n",
        "  return ypred\n",
        "m=features.shape[0]\n",
        "mtip=np.mat(labels)\n",
        "data=np.hstack((np.ones((m,1)),np.mat(features).T))\n",
        "ypred=local_weight_regression(data,mtip,0.5)\n",
        "indices=data[:,1].argsort(0)\n",
        "xsort=data[indices][:,0]\n",
        "fig=plt.figure()\n",
        "ax=fig.add_subplot(1,1,1)\n",
        "ax.scatter(features,labels,color=\"blue\")\n",
        "ax.plot(xsort[:,1],ypred[indices],color=\"red\",linewidth=3)\n",
        "plt.xlabel(\"Total bill\")\n",
        "plt.ylabel(\"Tip\")\n",
        "plt.show()\n"
      ],
      "metadata": {
        "colab": {
          "base_uri": "https://localhost:8080/",
          "height": 538
        },
        "id": "IIwcKwoEsCYI",
        "outputId": "1504c551-ba26-45bf-efac-3f8f23b2aee7"
      },
      "execution_count": null,
      "outputs": [
        {
          "output_type": "stream",
          "name": "stderr",
          "text": [
            "<ipython-input-37-2d5dd61dbd10>:9: DeprecationWarning: Conversion of an array with ndim > 0 to a scalar is deprecated, and will error in future. Ensure you extract a single element from your array before performing this operation. (Deprecated NumPy 1.25.)\n",
            "  ws[j,j]=np.exp(diff*diff.T/(-2.0*k**2))\n",
            "<ipython-input-37-2d5dd61dbd10>:18: DeprecationWarning: Conversion of an array with ndim > 0 to a scalar is deprecated, and will error in future. Ensure you extract a single element from your array before performing this operation. (Deprecated NumPy 1.25.)\n",
            "  ypred[i]=xmat[i]*local_weight(xmat,xmat[i],xmat,ymat,k)\n"
          ]
        },
        {
          "output_type": "display_data",
          "data": {
            "text/plain": [
              "<Figure size 640x480 with 1 Axes>"
            ],
            "image/png": "[encoded data removed]"
          },
          "metadata": {}
        }
      ]
    },
    {
      "cell_type": "code",
      "execution_count": null,
      "metadata": {
        "colab": {
          "base_uri": "https://localhost:8080/"
        },
        "id": "Hj38x4UQMQnp",
        "outputId": "937c0677-4769-4bcc-88eb-e47ae6b53fa8"
      },
      "outputs": [
        {
          "output_type": "stream",
          "name": "stdout",
          "text": [
            "the dimensions of dataset: (18, 2)\n",
            "0                      I love this sandwich\n",
            "1                  This is an amazing place\n",
            "2        I feel very good about these beers\n",
            "3                      This is my best work\n",
            "4                      What an awesome view\n",
            "5             I do not like this restaurant\n",
            "6                  I am tired of this stuff\n",
            "7                    I can't deal with this\n",
            "8                      He is my sworn enemy\n",
            "9                       My boss is horrible\n",
            "10                 This is an awesome place\n",
            "11    I do not like the taste of this juice\n",
            "12                          I love to dance\n",
            "13        I am sick and tired of this place\n",
            "14                     What a great holiday\n",
            "15           That is a bad locality to stay\n",
            "16           We will have good fun tomorrow\n",
            "17         I went to my enemy's house today\n",
            "Name: message, dtype: object\n",
            "0     1\n",
            "1     1\n",
            "2     1\n",
            "3     1\n",
            "4     1\n",
            "5     0\n",
            "6     0\n",
            "7     0\n",
            "8     0\n",
            "9     0\n",
            "10    1\n",
            "11    0\n",
            "12    1\n",
            "13    0\n",
            "14    1\n",
            "15    0\n",
            "16    1\n",
            "17    0\n",
            "Name: labelnum, dtype: int64\n",
            "\n",
            " the total number of training data: (13,)\n",
            "\n",
            " the total number of test data: (5,)\n",
            "\n",
            " the words or tokens in text document \n",
            "\n",
            "['am' 'amazing' 'an' 'and' 'awesome' 'best' 'boss' 'can' 'dance' 'deal'\n",
            " 'do' 'fun' 'good' 'great' 'have' 'holiday' 'horrible' 'is' 'juice' 'like'\n",
            " 'love' 'my' 'not' 'of' 'place' 'restaurant' 'sandwich' 'sick' 'stuff'\n",
            " 'taste' 'the' 'this' 'tired' 'to' 'tomorrow' 'view' 'we' 'what' 'will'\n",
            " 'with' 'work']\n",
            "\n",
            " Accuracy of claasifier: 0.4\n",
            "\n",
            " confusion matrix\n",
            "[[0 3]\n",
            " [0 2]]\n",
            "precision of classifier: 0.4\n",
            "\n",
            " recall of classifier: 1.0\n"
          ]
        }
      ],
      "source": [
        "# EXERCISE-10\n",
        "import pandas as pd\n",
        "msg=pd.read_csv(\"/content/document.csv\",names=[\"message\",\"label\"])\n",
        "print(\"the dimensions of dataset:\",msg.shape)\n",
        "msg[\"labelnum\"]=msg.label.map({\"pos\":1,\"neg\":0})\n",
        "x=msg.message\n",
        "y=msg.labelnum\n",
        "print(x)\n",
        "print(y)\n",
        "x=x.dropna()\n",
        "y=y[x.index]\n",
        "from sklearn.model_selection import train_test_split\n",
        "xtrain,xtest,ytrain,ytest=train_test_split(x,y)\n",
        "print(\"\\n the total number of training data:\",ytrain.shape)\n",
        "print(\"\\n the total number of test data:\",ytest.shape)\n",
        "from sklearn.feature_extraction.text import CountVectorizer\n",
        "count_vec=CountVectorizer()\n",
        "xtrain_dtm=count_vec.fit_transform(xtrain)\n",
        "xtest_dtm=count_vec.transform(xtest)\n",
        "print(\"\\n the words or tokens in text document \\n\")\n",
        "print(count_vec.get_feature_names_out())\n",
        "df = pd.DataFrame(xtrain_dtm.toarray(),columns =\n",
        "count_vec.get_feature_names_out())\n",
        "from sklearn.naive_bayes import MultinomialNB\n",
        "clf=MultinomialNB().fit(xtrain_dtm,ytrain)\n",
        "predicted=clf.predict(xtest_dtm)\n",
        "from sklearn import metrics\n",
        "print(\"\\n Accuracy of claasifier:\",metrics.accuracy_score(ytest,predicted))\n",
        "print(\"\\n confusion matrix\")\n",
        "print(metrics.confusion_matrix(ytest,predicted))\n",
        "print(\"precision of classifier:\",metrics.precision_score(ytest,predicted))\n",
        "print(\"\\n recall of classifier:\",metrics.recall_score(ytest,predicted))\n"
      ]
    },
    {
      "cell_type": "code",
      "execution_count": null,
      "metadata": {
        "id": "OXuVgvCSiuHv"
      },
      "outputs": [],
      "source": [
        "# EXERCISE-11\n",
        "import numpy as np\n",
        "from sklearn.cluster import KMeans\n",
        "from sklearn.mixture import GaussianMixture\n",
        "import pandas as pd\n",
        "import matplotlib.pyplot as plt"
      ]
    },
    {
      "cell_type": "code",
      "source": [
        "X=pd.read_csv(\"/content/Mall_Customers - Mall_Customers.csv\")\n",
        "x1=X['Age'].values\n",
        "x2=X['Spending Score (1-100)'].values\n",
        "X=np.array(list(zip(x1,x2))).reshape(len(x1),2)"
      ],
      "metadata": {
        "id": "EMCoi9KjjB2G"
      },
      "execution_count": null,
      "outputs": []
    },
    {
      "cell_type": "code",
      "source": [
        "plt.plot()\n",
        "plt.xlim([0,100])\n",
        "plt.ylim([0,50])\n",
        "plt.title('Dataset')\n",
        "plt.scatter(x1,x2)\n",
        "plt.show()\n",
        "gmm=GaussianMixture(n_components=2)\n",
        "gmm.fit(X)\n",
        "em_predictions=gmm.predict(X)\n",
        "print(\"\\nEM predictions\")\n",
        "print(em_predictions)\n",
        "print(\"mean:\\n\",gmm.means_)\n",
        "print(\"\\n\")\n",
        "print(\"Covariances\\n\",gmm.covariances_)\n",
        "print(X)\n",
        "plt.title(\"Exception Maximum\")\n",
        "plt.scatter(X[:,0],X[:,1],c=em_predictions,s=50)\n",
        "plt.show()\n",
        "\n"
      ],
      "metadata": {
        "colab": {
          "base_uri": "https://localhost:8080/",
          "height": 1000
        },
        "id": "rCqjnVoEj15H",
        "outputId": "07120d54-e7a4-48ef-c5d3-2c28c4446ac1"
      },
      "execution_count": null,
      "outputs": [
        {
          "output_type": "display_data",
          "data": {
            "text/plain": [
              "<Figure size 640x480 with 1 Axes>"
            ],
            "image/png": "[encoded data removed]"
          },
          "metadata": {}
        },
        {
          "output_type": "stream",
          "name": "stdout",
          "text": [
            "\n",
            "EM predictions\n",
            "[1 1 0 1 0 1 0 1 0 1 0 1 0 1 0 1 0 1 0 1 0 1 0 1 0 1 0 1 0 1 0 1 0 1 0 1 0\n",
            " 1 0 1 0 1 0 1 0 1 0 1 1 0 0 1 1 0 0 0 0 0 1 0 0 1 0 0 0 1 0 0 1 0 0 0 0 0\n",
            " 0 1 0 0 1 0 0 0 0 0 1 0 0 1 1 0 0 1 0 0 0 1 0 1 0 1 1 0 0 1 0 1 0 0 0 0 0\n",
            " 1 0 1 1 1 0 0 0 0 1 0 0 1 0 1 0 1 0 1 0 1 0 1 0 1 0 1 0 1 0 1 0 1 0 1 0 1\n",
            " 0 1 0 1 0 1 0 1 0 1 0 1 0 1 0 1 0 1 0 1 0 1 0 1 0 1 0 1 0 1 0 1 0 1 0 1 0\n",
            " 1 0 1 0 1 0 1 0 1 0 1 0 1 0 1]\n",
            "mean:\n",
            " [[47.17001006 33.37684232]\n",
            " [28.18004425 71.77477536]]\n",
            "\n",
            "\n",
            "Covariances\n",
            " [[[158.71944266  74.02719721]\n",
            "  [ 74.02719721 316.61394266]]\n",
            "\n",
            " [[ 36.9827689   46.69526174]\n",
            "  [ 46.69526174 279.98118017]]]\n",
            "[[19 39]\n",
            " [21 81]\n",
            " [20  6]\n",
            " [23 77]\n",
            " [31 40]\n",
            " [22 76]\n",
            " [35  6]\n",
            " [23 94]\n",
            " [64  3]\n",
            " [30 72]\n",
            " [67 14]\n",
            " [35 99]\n",
            " [58 15]\n",
            " [24 77]\n",
            " [37 13]\n",
            " [22 79]\n",
            " [35 35]\n",
            " [20 66]\n",
            " [52 29]\n",
            " [35 98]\n",
            " [35 35]\n",
            " [25 73]\n",
            " [46  5]\n",
            " [31 73]\n",
            " [54 14]\n",
            " [29 82]\n",
            " [45 32]\n",
            " [35 61]\n",
            " [40 31]\n",
            " [23 87]\n",
            " [60  4]\n",
            " [21 73]\n",
            " [53  4]\n",
            " [18 92]\n",
            " [49 14]\n",
            " [21 81]\n",
            " [42 17]\n",
            " [30 73]\n",
            " [36 26]\n",
            " [20 75]\n",
            " [65 35]\n",
            " [24 92]\n",
            " [48 36]\n",
            " [31 61]\n",
            " [49 28]\n",
            " [24 65]\n",
            " [50 55]\n",
            " [27 47]\n",
            " [29 42]\n",
            " [31 42]\n",
            " [49 52]\n",
            " [33 60]\n",
            " [31 54]\n",
            " [59 60]\n",
            " [50 45]\n",
            " [47 41]\n",
            " [51 50]\n",
            " [69 46]\n",
            " [27 51]\n",
            " [53 46]\n",
            " [70 56]\n",
            " [19 55]\n",
            " [67 52]\n",
            " [54 59]\n",
            " [63 51]\n",
            " [18 59]\n",
            " [43 50]\n",
            " [68 48]\n",
            " [19 59]\n",
            " [32 47]\n",
            " [70 55]\n",
            " [47 42]\n",
            " [60 49]\n",
            " [60 56]\n",
            " [59 47]\n",
            " [26 54]\n",
            " [45 53]\n",
            " [40 48]\n",
            " [23 52]\n",
            " [49 42]\n",
            " [57 51]\n",
            " [38 55]\n",
            " [67 41]\n",
            " [46 44]\n",
            " [21 57]\n",
            " [48 46]\n",
            " [55 58]\n",
            " [22 55]\n",
            " [34 60]\n",
            " [50 46]\n",
            " [68 55]\n",
            " [18 41]\n",
            " [48 49]\n",
            " [40 40]\n",
            " [32 42]\n",
            " [24 52]\n",
            " [47 47]\n",
            " [27 50]\n",
            " [48 42]\n",
            " [20 49]\n",
            " [23 41]\n",
            " [49 48]\n",
            " [67 59]\n",
            " [26 55]\n",
            " [49 56]\n",
            " [21 42]\n",
            " [66 50]\n",
            " [54 46]\n",
            " [68 43]\n",
            " [66 48]\n",
            " [65 52]\n",
            " [19 54]\n",
            " [38 42]\n",
            " [19 46]\n",
            " [18 48]\n",
            " [19 50]\n",
            " [63 43]\n",
            " [49 59]\n",
            " [51 43]\n",
            " [50 57]\n",
            " [27 56]\n",
            " [38 40]\n",
            " [40 58]\n",
            " [39 91]\n",
            " [23 29]\n",
            " [31 77]\n",
            " [43 35]\n",
            " [40 95]\n",
            " [59 11]\n",
            " [38 75]\n",
            " [47  9]\n",
            " [39 75]\n",
            " [25 34]\n",
            " [31 71]\n",
            " [20  5]\n",
            " [29 88]\n",
            " [44  7]\n",
            " [32 73]\n",
            " [19 10]\n",
            " [35 72]\n",
            " [57  5]\n",
            " [32 93]\n",
            " [28 40]\n",
            " [32 87]\n",
            " [25 12]\n",
            " [28 97]\n",
            " [48 36]\n",
            " [32 74]\n",
            " [34 22]\n",
            " [34 90]\n",
            " [43 17]\n",
            " [39 88]\n",
            " [44 20]\n",
            " [38 76]\n",
            " [47 16]\n",
            " [27 89]\n",
            " [37  1]\n",
            " [30 78]\n",
            " [34  1]\n",
            " [30 73]\n",
            " [56 35]\n",
            " [29 83]\n",
            " [19  5]\n",
            " [31 93]\n",
            " [50 26]\n",
            " [36 75]\n",
            " [42 20]\n",
            " [33 95]\n",
            " [36 27]\n",
            " [32 63]\n",
            " [40 13]\n",
            " [28 75]\n",
            " [36 10]\n",
            " [36 92]\n",
            " [52 13]\n",
            " [30 86]\n",
            " [58 15]\n",
            " [27 69]\n",
            " [59 14]\n",
            " [35 90]\n",
            " [37 32]\n",
            " [32 86]\n",
            " [46 15]\n",
            " [29 88]\n",
            " [41 39]\n",
            " [30 97]\n",
            " [54 24]\n",
            " [28 68]\n",
            " [41 17]\n",
            " [36 85]\n",
            " [34 23]\n",
            " [32 69]\n",
            " [33  8]\n",
            " [38 91]\n",
            " [47 16]\n",
            " [35 79]\n",
            " [45 28]\n",
            " [32 74]\n",
            " [32 18]\n",
            " [30 83]]\n"
          ]
        },
        {
          "output_type": "display_data",
          "data": {
            "text/plain": [
              "<Figure size 640x480 with 1 Axes>"
            ],
            "image/png": "[encoded data removed]"
          },
          "metadata": {}
        }
      ]
    },
    {
      "cell_type": "code",
      "source": [
        "import matplotlib.pyplot as plt1\n",
        "kmeans=KMeans(n_clusters=2)\n",
        "kmeans.fit(X)\n",
        "print(kmeans.cluster_centers_)\n",
        "print(kmeans.labels_)\n",
        "plt.title(\"KMEANS\")\n",
        "plt1.scatter(X[:,0],X[:,1],c=kmeans.labels_,cmap=\"rainbow\")\n",
        "plt1.scatter(kmeans.cluster_centers_[:,0],kmeans.cluster_centers_[:,1],color=\"black\")\n"
      ],
      "metadata": {
        "colab": {
          "base_uri": "https://localhost:8080/",
          "height": 608
        },
        "id": "QQiJ2XyamQwS",
        "outputId": "1b02fc20-13dd-43b7-c940-85212c0991c5"
      },
      "execution_count": null,
      "outputs": [
        {
          "output_type": "stream",
          "name": "stdout",
          "text": [
            "[[46.16521739 32.88695652]\n",
            " [28.95294118 73.62352941]]\n",
            "[0 1 0 1 0 1 0 1 0 1 0 1 0 1 0 1 0 1 0 1 0 1 0 1 0 1 0 1 0 1 0 1 0 1 0 1 0\n",
            " 1 0 1 0 1 0 1 0 1 0 0 0 0 0 1 1 0 0 0 0 0 1 0 0 1 0 0 0 1 0 0 1 0 0 0 0 0\n",
            " 0 1 0 0 1 0 0 1 0 0 1 0 0 1 1 0 0 0 0 0 0 1 0 1 0 1 0 0 0 1 0 0 0 0 0 0 0\n",
            " 1 0 1 1 1 0 1 0 0 1 0 1 1 0 1 0 1 0 1 0 1 0 1 0 1 0 1 0 1 0 1 0 1 0 1 0 1\n",
            " 0 1 0 1 0 1 0 1 0 1 0 1 0 1 0 1 0 1 0 1 0 1 0 1 0 1 0 1 0 1 0 1 0 1 0 1 0\n",
            " 1 0 1 0 1 0 1 0 1 0 1 0 1 0 1]\n"
          ]
        },
        {
          "output_type": "execute_result",
          "data": {
            "text/plain": [
              "<matplotlib.collections.PathCollection at 0x7890783c2fe0>"
            ]
          },
          "metadata": {},
          "execution_count": 18
        },
        {
          "output_type": "display_data",
          "data": {
            "text/plain": [
              "<Figure size 640x480 with 1 Axes>"
            ],
            "image/png": "[encoded data removed]"
          },
          "metadata": {}
        }
      ]
    },
    {
      "cell_type": "code",
      "execution_count": null,
      "metadata": {
        "colab": {
          "base_uri": "https://localhost:8080/",
          "height": 1000
        },
        "id": "P38sV188ac8i",
        "outputId": "82e1cb56-2107-4066-d9d3-5641d9369393"
      },
      "outputs": [
        {
          "output_type": "stream",
          "name": "stdout",
          "text": [
            "Make                  object\n",
            "Model                 object\n",
            "Year                   int64\n",
            "Engine Fuel Type      object\n",
            "Engine HP            float64\n",
            "Engine Cylinders     float64\n",
            "Transmission Type     object\n",
            "Driven_Wheels         object\n",
            "Number of Doors      float64\n",
            "Market Category       object\n",
            "Vehicle Size          object\n",
            "Vehicle Style         object\n",
            "highway MPG            int64\n",
            "city mpg               int64\n",
            "Popularity             int64\n",
            "MSRP                   int64\n",
            "dtype: object\n",
            "  Make       Model  Year  Engine HP  Engine Cylinders Transmission Type  \\\n",
            "0  BMW  1 Series M  2011      335.0               6.0            MANUAL   \n",
            "1  BMW    1 Series  2011      300.0               6.0            MANUAL   \n",
            "2  BMW    1 Series  2011      300.0               6.0            MANUAL   \n",
            "3  BMW    1 Series  2011      230.0               6.0            MANUAL   \n",
            "4  BMW    1 Series  2011      230.0               6.0            MANUAL   \n",
            "\n",
            "      Driven_Wheels  highway MPG  city mpg   MSRP  \n",
            "0  rear wheel drive           26        19  46135  \n",
            "1  rear wheel drive           28        19  40650  \n",
            "2  rear wheel drive           28        20  36350  \n",
            "3  rear wheel drive           28        18  29450  \n",
            "4  rear wheel drive           28        18  34500  \n",
            "  Make       Model  Year     HP  Cylinders Transmission        Drive Mode  \\\n",
            "0  BMW  1 Series M  2011  335.0        6.0       MANUAL  rear wheel drive   \n",
            "1  BMW    1 Series  2011  300.0        6.0       MANUAL  rear wheel drive   \n",
            "2  BMW    1 Series  2011  300.0        6.0       MANUAL  rear wheel drive   \n",
            "3  BMW    1 Series  2011  230.0        6.0       MANUAL  rear wheel drive   \n",
            "4  BMW    1 Series  2011  230.0        6.0       MANUAL  rear wheel drive   \n",
            "\n",
            "   MPG-H  MPG-C  Price  \n",
            "0     26     19  46135  \n",
            "1     28     19  40650  \n",
            "2     28     20  36350  \n",
            "3     28     18  29450  \n",
            "4     28     18  34500  \n",
            "(11914, 10)\n",
            "number of duplicate rows: (989, 10)\n",
            "Make            10925\n",
            "Model           10925\n",
            "Year            10925\n",
            "HP              10856\n",
            "Cylinders       10895\n",
            "Transmission    10925\n",
            "Drive Mode      10925\n",
            "MPG-H           10925\n",
            "MPG-C           10925\n",
            "Price           10925\n",
            "dtype: int64\n",
            "Make             0\n",
            "Model            0\n",
            "Year             0\n",
            "HP              69\n",
            "Cylinders       30\n",
            "Transmission     0\n",
            "Drive Mode       0\n",
            "MPG-H            0\n",
            "MPG-C            0\n",
            "Price            0\n",
            "dtype: int64\n",
            "Make            10827\n",
            "Model           10827\n",
            "Year            10827\n",
            "HP              10827\n",
            "Cylinders       10827\n",
            "Transmission    10827\n",
            "Drive Mode      10827\n",
            "MPG-H           10827\n",
            "MPG-C           10827\n",
            "Price           10827\n",
            "dtype: int64\n",
            "Make            0\n",
            "Model           0\n",
            "Year            0\n",
            "HP              0\n",
            "Cylinders       0\n",
            "Transmission    0\n",
            "Drive Mode      0\n",
            "MPG-H           0\n",
            "MPG-C           0\n",
            "Price           0\n",
            "dtype: int64\n"
          ]
        },
        {
          "output_type": "display_data",
          "data": {
            "text/plain": [
              "<Figure size 1000x500 with 2 Axes>"
            ],
            "image/png": "[encoded data removed]"
          },
          "metadata": {}
        },
        {
          "output_type": "display_data",
          "data": {
            "text/plain": [
              "<Figure size 1000x600 with 1 Axes>"
            ],
            "image/png": "[encoded data removed]"
          },
          "metadata": {}
        }
      ],
      "source": [
        "# EXERCISE-12\n",
        "import pandas as pd\n",
        "import numpy as np\n",
        "import seaborn as sns\n",
        "import matplotlib.pyplot as plt\n",
        "%matplotlib inline\n",
        "sns.set(color_codes=True)\n",
        "df=pd.read_csv(\"/content/data1 - data1.csv\")\n",
        "print(df.dtypes)\n",
        "df=df.drop([\"Engine Fuel Type\",\"Market Category\",\"Vehicle Style\",\"Popularity\",\"Number of Doors\",\"Vehicle Size\"],axis=1)\n",
        "print(df.head(5))\n",
        "df=df.rename(columns={\"Engine HP\":\"HP\",\"Engine Cylinders\":\"Cylinders\",\"Transmission Type\":\"Transmission\",\"Driven_Wheels\":\"Drive Mode\",\"highway MPG\":\"MPG-H\",\"city mpg\":\"MPG-C\",\"MSRP\":\"Price\"})\n",
        "print(df.head(5))\n",
        "print(df.shape)\n",
        "duplicate_rows_df=df[df.duplicated()]\n",
        "print(\"number of duplicate rows:\",duplicate_rows_df.shape)\n",
        "df.count()\n",
        "df=df.drop_duplicates()\n",
        "df.head(5)\n",
        "print(df.count())\n",
        "print(df.isnull().sum())\n",
        "df=df.dropna()\n",
        "print(df.count())\n",
        "print(df.isnull().sum())\n",
        "plt.figure(figsize=(10,5))\n",
        "numeric_df=df.select_dtypes(include=['number'])\n",
        "c= numeric_df.corr()\n",
        "sns.heatmap(c,cmap=\"BrBG\",annot=True)\n",
        "fig,ax=plt.subplots(figsize=(10,6))\n",
        "ax.scatter(df[\"HP\"],df[\"Price\"])\n",
        "ax.set_xlabel(\"HP\")\n",
        "ax.set_ylabel(\"Price\")\n",
        "plt.show()"
      ]
    },
    {
      "cell_type": "code",
      "execution_count": null,
      "metadata": {
        "colab": {
          "base_uri": "https://localhost:8080/"
        },
        "id": "iCOTeZ62d4vM",
        "outputId": "f70f17cf-b4f1-4683-b382-0e0b6633f8b6"
      },
      "outputs": [
        {
          "output_type": "stream",
          "name": "stdout",
          "text": [
            "Collecting pgmpy\n",
            "  Downloading pgmpy-0.1.26-py3-none-any.whl.metadata (9.1 kB)\n",
            "Requirement already satisfied: networkx in /usr/local/lib/python3.10/dist-packages (from pgmpy) (3.3)\n",
            "Requirement already satisfied: numpy in /usr/local/lib/python3.10/dist-packages (from pgmpy) (1.26.4)\n",
            "Requirement already satisfied: scipy in /usr/local/lib/python3.10/dist-packages (from pgmpy) (1.13.1)\n",
            "Requirement already satisfied: scikit-learn in /usr/local/lib/python3.10/dist-packages (from pgmpy) (1.5.2)\n",
            "Requirement already satisfied: pandas in /usr/local/lib/python3.10/dist-packages (from pgmpy) (2.2.2)\n",
            "Requirement already satisfied: pyparsing in /usr/local/lib/python3.10/dist-packages (from pgmpy) (3.1.4)\n",
            "Requirement already satisfied: torch in /usr/local/lib/python3.10/dist-packages (from pgmpy) (2.4.1+cu121)\n",
            "Requirement already satisfied: statsmodels in /usr/local/lib/python3.10/dist-packages (from pgmpy) (0.14.3)\n",
            "Requirement already satisfied: tqdm in /usr/local/lib/python3.10/dist-packages (from pgmpy) (4.66.5)\n",
            "Requirement already satisfied: joblib in /usr/local/lib/python3.10/dist-packages (from pgmpy) (1.4.2)\n",
            "Requirement already satisfied: opt-einsum in /usr/local/lib/python3.10/dist-packages (from pgmpy) (3.4.0)\n",
            "Requirement already satisfied: xgboost in /usr/local/lib/python3.10/dist-packages (from pgmpy) (2.1.1)\n",
            "Requirement already satisfied: google-generativeai in /usr/local/lib/python3.10/dist-packages (from pgmpy) (0.7.2)\n",
            "Requirement already satisfied: google-ai-generativelanguage==0.6.6 in /usr/local/lib/python3.10/dist-packages (from google-generativeai->pgmpy) (0.6.6)\n",
            "Requirement already satisfied: google-api-core in /usr/local/lib/python3.10/dist-packages (from google-generativeai->pgmpy) (2.19.2)\n",
            "Requirement already satisfied: google-api-python-client in /usr/local/lib/python3.10/dist-packages (from google-generativeai->pgmpy) (2.137.0)\n",
            "Requirement already satisfied: google-auth>=2.15.0 in /usr/local/lib/python3.10/dist-packages (from google-generativeai->pgmpy) (2.27.0)\n",
            "Requirement already satisfied: protobuf in /usr/local/lib/python3.10/dist-packages (from google-generativeai->pgmpy) (3.20.3)\n",
            "Requirement already satisfied: pydantic in /usr/local/lib/python3.10/dist-packages (from google-generativeai->pgmpy) (2.9.2)\n",
            "Requirement already satisfied: typing-extensions in /usr/local/lib/python3.10/dist-packages (from google-generativeai->pgmpy) (4.12.2)\n",
            "Requirement already satisfied: proto-plus<2.0.0dev,>=1.22.3 in /usr/local/lib/python3.10/dist-packages (from google-ai-generativelanguage==0.6.6->google-generativeai->pgmpy) (1.24.0)\n",
            "Requirement already satisfied: python-dateutil>=2.8.2 in /usr/local/lib/python3.10/dist-packages (from pandas->pgmpy) (2.8.2)\n",
            "Requirement already satisfied: pytz>=2020.1 in /usr/local/lib/python3.10/dist-packages (from pandas->pgmpy) (2024.2)\n",
            "Requirement already satisfied: tzdata>=2022.7 in /usr/local/lib/python3.10/dist-packages (from pandas->pgmpy) (2024.2)\n",
            "Requirement already satisfied: threadpoolctl>=3.1.0 in /usr/local/lib/python3.10/dist-packages (from scikit-learn->pgmpy) (3.5.0)\n",
            "Requirement already satisfied: patsy>=0.5.6 in /usr/local/lib/python3.10/dist-packages (from statsmodels->pgmpy) (0.5.6)\n",
            "Requirement already satisfied: packaging>=21.3 in /usr/local/lib/python3.10/dist-packages (from statsmodels->pgmpy) (24.1)\n",
            "Requirement already satisfied: filelock in /usr/local/lib/python3.10/dist-packages (from torch->pgmpy) (3.16.1)\n",
            "Requirement already satisfied: sympy in /usr/local/lib/python3.10/dist-packages (from torch->pgmpy) (1.13.3)\n",
            "Requirement already satisfied: jinja2 in /usr/local/lib/python3.10/dist-packages (from torch->pgmpy) (3.1.4)\n",
            "Requirement already satisfied: fsspec in /usr/local/lib/python3.10/dist-packages (from torch->pgmpy) (2024.6.1)\n",
            "Requirement already satisfied: nvidia-nccl-cu12 in /usr/local/lib/python3.10/dist-packages (from xgboost->pgmpy) (2.23.4)\n",
            "Requirement already satisfied: googleapis-common-protos<2.0.dev0,>=1.56.2 in /usr/local/lib/python3.10/dist-packages (from google-api-core->google-generativeai->pgmpy) (1.65.0)\n",
            "Requirement already satisfied: requests<3.0.0.dev0,>=2.18.0 in /usr/local/lib/python3.10/dist-packages (from google-api-core->google-generativeai->pgmpy) (2.32.3)\n",
            "Requirement already satisfied: cachetools<6.0,>=2.0.0 in /usr/local/lib/python3.10/dist-packages (from google-auth>=2.15.0->google-generativeai->pgmpy) (5.5.0)\n",
            "Requirement already satisfied: pyasn1-modules>=0.2.1 in /usr/local/lib/python3.10/dist-packages (from google-auth>=2.15.0->google-generativeai->pgmpy) (0.4.1)\n",
            "Requirement already satisfied: rsa<5,>=3.1.4 in /usr/local/lib/python3.10/dist-packages (from google-auth>=2.15.0->google-generativeai->pgmpy) (4.9)\n",
            "Requirement already satisfied: six in /usr/local/lib/python3.10/dist-packages (from patsy>=0.5.6->statsmodels->pgmpy) (1.16.0)\n",
            "Requirement already satisfied: httplib2<1.dev0,>=0.19.0 in /usr/local/lib/python3.10/dist-packages (from google-api-python-client->google-generativeai->pgmpy) (0.22.0)\n",
            "Requirement already satisfied: google-auth-httplib2<1.0.0,>=0.2.0 in /usr/local/lib/python3.10/dist-packages (from google-api-python-client->google-generativeai->pgmpy) (0.2.0)\n",
            "Requirement already satisfied: uritemplate<5,>=3.0.1 in /usr/local/lib/python3.10/dist-packages (from google-api-python-client->google-generativeai->pgmpy) (4.1.1)\n",
            "Requirement already satisfied: MarkupSafe>=2.0 in /usr/local/lib/python3.10/dist-packages (from jinja2->torch->pgmpy) (2.1.5)\n",
            "Requirement already satisfied: annotated-types>=0.6.0 in /usr/local/lib/python3.10/dist-packages (from pydantic->google-generativeai->pgmpy) (0.7.0)\n",
            "Requirement already satisfied: pydantic-core==2.23.4 in /usr/local/lib/python3.10/dist-packages (from pydantic->google-generativeai->pgmpy) (2.23.4)\n",
            "Requirement already satisfied: mpmath<1.4,>=1.1.0 in /usr/local/lib/python3.10/dist-packages (from sympy->torch->pgmpy) (1.3.0)\n",
            "Requirement already satisfied: grpcio<2.0dev,>=1.33.2 in /usr/local/lib/python3.10/dist-packages (from google-api-core[grpc]!=2.0.*,!=2.1.*,!=2.10.*,!=2.2.*,!=2.3.*,!=2.4.*,!=2.5.*,!=2.6.*,!=2.7.*,!=2.8.*,!=2.9.*,<3.0.0dev,>=1.34.1->google-ai-generativelanguage==0.6.6->google-generativeai->pgmpy) (1.64.1)\n",
            "Requirement already satisfied: grpcio-status<2.0.dev0,>=1.33.2 in /usr/local/lib/python3.10/dist-packages (from google-api-core[grpc]!=2.0.*,!=2.1.*,!=2.10.*,!=2.2.*,!=2.3.*,!=2.4.*,!=2.5.*,!=2.6.*,!=2.7.*,!=2.8.*,!=2.9.*,<3.0.0dev,>=1.34.1->google-ai-generativelanguage==0.6.6->google-generativeai->pgmpy) (1.48.2)\n",
            "Requirement already satisfied: pyasn1<0.7.0,>=0.4.6 in /usr/local/lib/python3.10/dist-packages (from pyasn1-modules>=0.2.1->google-auth>=2.15.0->google-generativeai->pgmpy) (0.6.1)\n",
            "Requirement already satisfied: charset-normalizer<4,>=2 in /usr/local/lib/python3.10/dist-packages (from requests<3.0.0.dev0,>=2.18.0->google-api-core->google-generativeai->pgmpy) (3.3.2)\n",
            "Requirement already satisfied: idna<4,>=2.5 in /usr/local/lib/python3.10/dist-packages (from requests<3.0.0.dev0,>=2.18.0->google-api-core->google-generativeai->pgmpy) (3.10)\n",
            "Requirement already satisfied: urllib3<3,>=1.21.1 in /usr/local/lib/python3.10/dist-packages (from requests<3.0.0.dev0,>=2.18.0->google-api-core->google-generativeai->pgmpy) (2.2.3)\n",
            "Requirement already satisfied: certifi>=2017.4.17 in /usr/local/lib/python3.10/dist-packages (from requests<3.0.0.dev0,>=2.18.0->google-api-core->google-generativeai->pgmpy) (2024.8.30)\n",
            "Downloading pgmpy-0.1.26-py3-none-any.whl (2.0 MB)\n",
            "\u001b[2K   \u001b[90m━━━━━━━━━━━━━━━━━━━━━━━━━━━━━━━━━━━━━━━━\u001b[0m \u001b[32m2.0/2.0 MB\u001b[0m \u001b[31m16.6 MB/s\u001b[0m eta \u001b[36m0:00:00\u001b[0m\n",
            "\u001b[?25hInstalling collected packages: pgmpy\n",
            "Successfully installed pgmpy-0.1.26\n"
          ]
        }
      ],
      "source": [
        "# EXERCISE-13\n",
        "!pip install pgmpy"
      ]
    },
    {
      "cell_type": "code",
      "source": [
        "import numpy as np\n",
        "import pandas as pd\n",
        "import csv\n",
        "from pgmpy.estimators import MaximumLikelihoodEstimator\n",
        "from pgmpy.models import BayesianNetwork\n",
        "from pgmpy.inference import VariableElimination\n"
      ],
      "metadata": {
        "id": "kNywW99misW_"
      },
      "execution_count": null,
      "outputs": []
    },
    {
      "cell_type": "code",
      "source": [
        "heartDisease=pd.read_csv(\"/content/heart - heart.csv\")\n",
        "heartDisease=heartDisease.replace('?',np.nan)\n",
        "print(heartDisease.dtypes)"
      ],
      "metadata": {
        "colab": {
          "base_uri": "https://localhost:8080/"
        },
        "id": "MYpA_wNDjUfv",
        "outputId": "a4e30588-1809-40e7-9bfb-fbb3be91ea3a"
      },
      "execution_count": null,
      "outputs": [
        {
          "output_type": "stream",
          "name": "stdout",
          "text": [
            "age               int64\n",
            "sex               int64\n",
            "cp                int64\n",
            "trestbps          int64\n",
            "chol              int64\n",
            "fbs               int64\n",
            "restecg           int64\n",
            "thalach           int64\n",
            "exang             int64\n",
            "oldpeak         float64\n",
            "slope             int64\n",
            "ca                int64\n",
            "thal              int64\n",
            "heartdisease      int64\n",
            "dtype: object\n"
          ]
        }
      ]
    },
    {
      "cell_type": "code",
      "source": [
        "model=BayesianNetwork([('age','heartdisease'),('sex','heartdisease'),('exang','heartdisease'),('cp','heartdisease'),('heartdisease','restecg'),('heartdisease','chol')])\n",
        "print('\\n Learning CPD using Maximum likelihood estimators')\n",
        "model.fit(heartDisease,estimator=MaximumLikelihoodEstimator)\n",
        "print('\\n Inferancing with Bayesian Network:')\n",
        "HeartDisease_infer=VariableElimination(model)\n",
        "print('\\n 1.probability of HeartDisease given evidence=restecg:1')\n"
      ],
      "metadata": {
        "colab": {
          "base_uri": "https://localhost:8080/"
        },
        "id": "F810Ft-dj8uu",
        "outputId": "5f6d559b-5014-4b7f-d1d6-560f048449cb"
      },
      "execution_count": null,
      "outputs": [
        {
          "output_type": "stream",
          "name": "stdout",
          "text": [
            "\n",
            " Learning CPD using Maximum likelihood estimators\n",
            "\n",
            " Inferancing with Bayesian Network:\n",
            "\n",
            " 1.probability of HeartDisease given evidence=restecg:1\n"
          ]
        }
      ]
    },
    {
      "cell_type": "code",
      "source": [
        "q1=HeartDisease_infer.query(variables=['heartdisease'],evidence={'restecg':1})\n",
        "print(q1)\n",
        "print('\\n2.probability of HeartDisease given evidence=cp:2')\n",
        "q2=HeartDisease_infer.query(variables=['heartdisease'],evidence={'cp':2})\n",
        "print(q2)"
      ],
      "metadata": {
        "colab": {
          "base_uri": "https://localhost:8080/"
        },
        "id": "Pq6KwK2smcM1",
        "outputId": "dfb3c5f2-7fb1-4d92-b94a-c1482b1b4ffa"
      },
      "execution_count": null,
      "outputs": [
        {
          "output_type": "stream",
          "name": "stdout",
          "text": [
            "+-----------------+---------------------+\n",
            "| heartdisease    |   phi(heartdisease) |\n",
            "+=================+=====================+\n",
            "| heartdisease(0) |              0.4354 |\n",
            "+-----------------+---------------------+\n",
            "| heartdisease(1) |              0.5646 |\n",
            "+-----------------+---------------------+\n",
            "\n",
            "2.probability of HeartDisease given evidence=cp:2\n",
            "+-----------------+---------------------+\n",
            "| heartdisease    |   phi(heartdisease) |\n",
            "+=================+=====================+\n",
            "| heartdisease(0) |              0.3832 |\n",
            "+-----------------+---------------------+\n",
            "| heartdisease(1) |              0.6168 |\n",
            "+-----------------+---------------------+\n"
          ]
        }
      ]
    },
    {
      "cell_type": "code",
      "source": [
        "q3=HeartDisease_infer.query(variables=['heartdisease'],evidence={'age':55})\n",
        "print(q3)\n",
        "q4=HeartDisease_infer.query(variables=['heartdisease'],evidence={'sex':1})\n",
        "print(q4)"
      ],
      "metadata": {
        "colab": {
          "base_uri": "https://localhost:8080/"
        },
        "id": "3MmLzW41tVT8",
        "outputId": "d340bcf3-c613-4169-c747-9ac7e82b1526"
      },
      "execution_count": null,
      "outputs": [
        {
          "output_type": "stream",
          "name": "stdout",
          "text": [
            "+-----------------+---------------------+\n",
            "| heartdisease    |   phi(heartdisease) |\n",
            "+=================+=====================+\n",
            "| heartdisease(0) |              0.5276 |\n",
            "+-----------------+---------------------+\n",
            "| heartdisease(1) |              0.4724 |\n",
            "+-----------------+---------------------+\n",
            "+-----------------+---------------------+\n",
            "| heartdisease    |   phi(heartdisease) |\n",
            "+=================+=====================+\n",
            "| heartdisease(0) |              0.5661 |\n",
            "+-----------------+---------------------+\n",
            "| heartdisease(1) |              0.4339 |\n",
            "+-----------------+---------------------+\n"
          ]
        }
      ]
    },
    {
      "cell_type": "code",
      "execution_count": null,
      "metadata": {
        "colab": {
          "base_uri": "https://localhost:8080/",
          "height": 1000
        },
        "id": "yVRhudIoVyfa",
        "outputId": "7d12ae13-af9e-4ed5-9b8b-1dcc04914d0b"
      },
      "outputs": [
        {
          "output_type": "execute_result",
          "data": {
            "text/plain": [
              "diagnosis(1=m, 0=b)        0\n",
              "radius_mean                0\n",
              "texture_mean               0\n",
              "perimeter_mean             0\n",
              "area_mean                  0\n",
              "smoothness_mean            0\n",
              "compactness_mean           0\n",
              "concavity_mean             0\n",
              "concave points_mean        0\n",
              "symmetry_mean              0\n",
              "fractal_dimension_mean     0\n",
              "radius_se                  0\n",
              "texture_se                 0\n",
              "perimeter_se               0\n",
              "area_se                    0\n",
              "smoothness_se              0\n",
              "compactness_se             0\n",
              "concavity_se               0\n",
              "concave points_se          0\n",
              "symmetry_se                0\n",
              "fractal_dimension_se       0\n",
              "radius_worst               0\n",
              "texture_worst              0\n",
              "perimeter_worst            0\n",
              "area_worst                 0\n",
              "smoothness_worst           0\n",
              "compactness_worst          0\n",
              "concavity_worst            0\n",
              "concave points_worst       0\n",
              "symmetry_worst             0\n",
              "fractal_dimension_worst    0\n",
              "dtype: int64"
            ],
            "text/html": [
              "<div>\n",
              "<style scoped>\n",
              "    .dataframe tbody tr th:only-of-type {\n",
              "        vertical-align: middle;\n",
              "    }\n",
              "\n",
              "    .dataframe tbody tr th {\n",
              "        vertical-align: top;\n",
              "    }\n",
              "\n",
              "    .dataframe thead th {\n",
              "        text-align: right;\n",
              "    }\n",
              "</style>\n",
              "<table border=\"1\" class=\"dataframe\">\n",
              "  <thead>\n",
              "    <tr style=\"text-align: right;\">\n",
              "      <th></th>\n",
              "      <th>0</th>\n",
              "    </tr>\n",
              "  </thead>\n",
              "  <tbody>\n",
              "    <tr>\n",
              "      <th>diagnosis(1=m, 0=b)</th>\n",
              "      <td>0</td>\n",
              "    </tr>\n",
              "    <tr>\n",
              "      <th>radius_mean</th>\n",
              "      <td>0</td>\n",
              "    </tr>\n",
              "    <tr>\n",
              "      <th>texture_mean</th>\n",
              "      <td>0</td>\n",
              "    </tr>\n",
              "    <tr>\n",
              "      <th>perimeter_mean</th>\n",
              "      <td>0</td>\n",
              "    </tr>\n",
              "    <tr>\n",
              "      <th>area_mean</th>\n",
              "      <td>0</td>\n",
              "    </tr>\n",
              "    <tr>\n",
              "      <th>smoothness_mean</th>\n",
              "      <td>0</td>\n",
              "    </tr>\n",
              "    <tr>\n",
              "      <th>compactness_mean</th>\n",
              "      <td>0</td>\n",
              "    </tr>\n",
              "    <tr>\n",
              "      <th>concavity_mean</th>\n",
              "      <td>0</td>\n",
              "    </tr>\n",
              "    <tr>\n",
              "      <th>concave points_mean</th>\n",
              "      <td>0</td>\n",
              "    </tr>\n",
              "    <tr>\n",
              "      <th>symmetry_mean</th>\n",
              "      <td>0</td>\n",
              "    </tr>\n",
              "    <tr>\n",
              "      <th>fractal_dimension_mean</th>\n",
              "      <td>0</td>\n",
              "    </tr>\n",
              "    <tr>\n",
              "      <th>radius_se</th>\n",
              "      <td>0</td>\n",
              "    </tr>\n",
              "    <tr>\n",
              "      <th>texture_se</th>\n",
              "      <td>0</td>\n",
              "    </tr>\n",
              "    <tr>\n",
              "      <th>perimeter_se</th>\n",
              "      <td>0</td>\n",
              "    </tr>\n",
              "    <tr>\n",
              "      <th>area_se</th>\n",
              "      <td>0</td>\n",
              "    </tr>\n",
              "    <tr>\n",
              "      <th>smoothness_se</th>\n",
              "      <td>0</td>\n",
              "    </tr>\n",
              "    <tr>\n",
              "      <th>compactness_se</th>\n",
              "      <td>0</td>\n",
              "    </tr>\n",
              "    <tr>\n",
              "      <th>concavity_se</th>\n",
              "      <td>0</td>\n",
              "    </tr>\n",
              "    <tr>\n",
              "      <th>concave points_se</th>\n",
              "      <td>0</td>\n",
              "    </tr>\n",
              "    <tr>\n",
              "      <th>symmetry_se</th>\n",
              "      <td>0</td>\n",
              "    </tr>\n",
              "    <tr>\n",
              "      <th>fractal_dimension_se</th>\n",
              "      <td>0</td>\n",
              "    </tr>\n",
              "    <tr>\n",
              "      <th>radius_worst</th>\n",
              "      <td>0</td>\n",
              "    </tr>\n",
              "    <tr>\n",
              "      <th>texture_worst</th>\n",
              "      <td>0</td>\n",
              "    </tr>\n",
              "    <tr>\n",
              "      <th>perimeter_worst</th>\n",
              "      <td>0</td>\n",
              "    </tr>\n",
              "    <tr>\n",
              "      <th>area_worst</th>\n",
              "      <td>0</td>\n",
              "    </tr>\n",
              "    <tr>\n",
              "      <th>smoothness_worst</th>\n",
              "      <td>0</td>\n",
              "    </tr>\n",
              "    <tr>\n",
              "      <th>compactness_worst</th>\n",
              "      <td>0</td>\n",
              "    </tr>\n",
              "    <tr>\n",
              "      <th>concavity_worst</th>\n",
              "      <td>0</td>\n",
              "    </tr>\n",
              "    <tr>\n",
              "      <th>concave points_worst</th>\n",
              "      <td>0</td>\n",
              "    </tr>\n",
              "    <tr>\n",
              "      <th>symmetry_worst</th>\n",
              "      <td>0</td>\n",
              "    </tr>\n",
              "    <tr>\n",
              "      <th>fractal_dimension_worst</th>\n",
              "      <td>0</td>\n",
              "    </tr>\n",
              "  </tbody>\n",
              "</table>\n",
              "</div><br><label><b>dtype:</b> int64</label>"
            ]
          },
          "metadata": {},
          "execution_count": 1
        }
      ],
      "source": [
        "# EXERCISE-14\n",
        "import pandas as pd\n",
        "import numpy as np\n",
        "data=pd.read_csv(\"/content/cancer - cancer.csv\")\n",
        "data.isnull().sum()\n"
      ]
    },
    {
      "cell_type": "code",
      "source": [
        "x=data.iloc[:,1:].values\n",
        "y=data.iloc[:,0].values\n",
        "from sklearn.svm import SVC\n",
        "from sklearn.model_selection import train_test_split\n",
        "x_train,x_test,y_train,y_test=train_test_split(x,y,test_size=0.30,random_state=0)\n",
        "model=SVC().fit(x_train,y_train)\n",
        "mod_score=model.score(x_test,y_test)\n",
        "print(\"Model score:\",mod_score)\n",
        "y_pred=model.predict(x_test)\n",
        "from sklearn import metrics\n",
        "cm=metrics.confusion_matrix(y_test,y_pred)\n",
        "print(cm)\n",
        "tot=cm[0,0]+cm[0,1]+cm[1,0],cm[1,1]\n",
        "acc=(cm[0,0]+cm[1,1])/tot\n",
        "print(\"Accuracy:\",acc)\n",
        "recall=cm[0,0]/(cm[0,0]+cm[1,0])\n",
        "print(\"Recall:\",recall)\n",
        "pre=cm[0,0]/(cm[0,0]+cm[0,1])\n",
        "print(\"Precision:\",pre)\n",
        "print(\"F1 score:\",(2*pre*recall)/(pre+recall))\n",
        "print(\"\\n\",metrics.classification_report(y_test,y_pred))\n"
      ],
      "metadata": {
        "colab": {
          "base_uri": "https://localhost:8080/"
        },
        "id": "e01RAaB6WcUW",
        "outputId": "90d7e756-8f85-4118-f973-6e22b740ba1d"
      },
      "execution_count": null,
      "outputs": [
        {
          "output_type": "stream",
          "name": "stdout",
          "text": [
            "Model score: 0.9239766081871345\n",
            "[[107   1]\n",
            " [ 12  51]]\n",
            "Accuracy: [1.31666667 3.09803922]\n",
            "Recall: 0.8991596638655462\n",
            "Precision: 0.9907407407407407\n",
            "F1 score: 0.9427312775330395\n",
            "\n",
            "               precision    recall  f1-score   support\n",
            "\n",
            "           0       0.90      0.99      0.94       108\n",
            "           1       0.98      0.81      0.89        63\n",
            "\n",
            "    accuracy                           0.92       171\n",
            "   macro avg       0.94      0.90      0.91       171\n",
            "weighted avg       0.93      0.92      0.92       171\n",
            "\n"
          ]
        }
      ]
    },
    {
      "cell_type": "code",
      "execution_count": null,
      "metadata": {
        "id": "PyXLO1droeNs",
        "colab": {
          "base_uri": "https://localhost:8080/"
        },
        "outputId": "6cfd0e63-b953-40da-acb4-1444bd1837ce"
      },
      "outputs": [
        {
          "output_type": "stream",
          "name": "stdout",
          "text": [
            "[0.45184967 0.18125598]\n"
          ]
        }
      ],
      "source": [
        "# EXERCISE-15\n",
        "import pandas as pd\n",
        "import numpy as np\n",
        "data=pd.read_csv(\"/content/cancer - cancer.csv\")\n",
        "x=data.iloc[:,:-1].values\n",
        "y=data.iloc[:,-1].values\n",
        "from sklearn.model_selection import train_test_split\n",
        "x_train,x_test,y_train,y_test=train_test_split(x,y,test_size=0.3,random_state=0)\n",
        "from sklearn.preprocessing import StandardScaler\n",
        "sc=StandardScaler()\n",
        "x_train=sc.fit_transform(x_train)\n",
        "x_test=sc.transform(x_test)\n",
        "from sklearn.decomposition import PCA\n",
        "pca=PCA(n_components=2)\n",
        "x_train=pca.fit_transform(x_train)\n",
        "x_test=pca.transform(x_test)\n",
        "explained_variance=pca.explained_variance_ratio_\n",
        "print(explained_variance)"
      ]
    }
  ]
}